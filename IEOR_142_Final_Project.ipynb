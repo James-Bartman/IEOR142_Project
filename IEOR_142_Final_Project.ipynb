{
  "cells": [
    {
      "cell_type": "markdown",
      "metadata": {
        "id": "view-in-github",
        "colab_type": "text"
      },
      "source": [
        "<a href=\"https://colab.research.google.com/github/James-Bartman/IEOR142_Project/blob/main/IEOR_142_Final_Project.ipynb\" target=\"_parent\"><img src=\"https://colab.research.google.com/assets/colab-badge.svg\" alt=\"Open In Colab\"/></a>"
      ]
    },
    {
      "cell_type": "markdown",
      "metadata": {
        "id": "Lq3J_QsR7sod"
      },
      "source": [
        "# **IEOR 142 Final Project**\n",
        "#### James Bartman, Taras Goral, Sarah Parkes, Negar Sheidayi, and Emme Spero\n",
        "\n",
        "**INSTRUCTIONS FOR GROUP MEMBERS:**\n",
        "1. Run all cells in Part 1: Dependencies\n",
        "2. Run Data Import cells in Part 3: Importing Preprocessed Data\n",
        "3. Run function declaration cells in Part 4: Data Inspection\n",
        "4. Do whatever modeling you are responsible for in its own subsection and make sure to have a text cell before it specifying which model you are running."
      ]
    },
    {
      "cell_type": "markdown",
      "metadata": {
        "id": "Ox_QE2da8CGY"
      },
      "source": [
        "## Part I: Dependencies"
      ]
    },
    {
      "cell_type": "code",
      "execution_count": 1,
      "metadata": {
        "id": "aE4uBd__EugJ"
      },
      "outputs": [],
      "source": [
        "import io\n",
        "import numpy as np\n",
        "import pandas as pd\n",
        "import matplotlib.pyplot as plt\n",
        "import seaborn as sns\n",
        "import tensorflow as tf\n",
        "import sklearn\n",
        "import datetime\n",
        "import time"
      ]
    },
    {
      "cell_type": "code",
      "execution_count": 2,
      "metadata": {
        "id": "wNDdEmvGE1JD"
      },
      "outputs": [],
      "source": [
        "import statsmodels.api as sm\n",
        "import statsmodels.formula.api as smf\n",
        "from sklearn.model_selection import GridSearchCV, KFold\n",
        "from sklearn.linear_model import LinearRegression\n",
        "from sklearn.tree import DecisionTreeRegressor\n",
        "from sklearn.ensemble import RandomForestRegressor, GradientBoostingRegressor\n",
        "from sklearn.metrics import r2_score\n",
        "from tensorflow.keras.utils import to_categorical\n",
        "from tensorflow.keras.models import Sequential\n",
        "from tensorflow.keras.layers import Dense, Input\n",
        "from tensorflow.keras.optimizers import RMSprop\n",
        "from sklearn.metrics import accuracy_score, roc_auc_score\n",
        "from statsmodels.stats.outliers_influence import variance_inflation_factor"
      ]
    },
    {
      "cell_type": "code",
      "execution_count": 3,
      "metadata": {
        "colab": {
          "base_uri": "https://localhost:8080/"
        },
        "id": "tf3jngQB8-HW",
        "outputId": "2cc079fb-1075-45fa-da10-baabd162ed1e"
      },
      "outputs": [
        {
          "output_type": "stream",
          "name": "stdout",
          "text": [
            "Mounted at /content/drive/\n"
          ]
        }
      ],
      "source": [
        "from google.colab import drive\n",
        "from google.colab import files\n",
        "drive.mount('/content/drive/')"
      ]
    },
    {
      "cell_type": "code",
      "execution_count": 4,
      "metadata": {
        "colab": {
          "base_uri": "https://localhost:8080/"
        },
        "id": "lbVYTX6G9C-a",
        "outputId": "6cf0aa02-4364-4012-f8f9-47412b2a819e"
      },
      "outputs": [
        {
          "output_type": "stream",
          "name": "stdout",
          "text": [
            "/content/drive/.shortcut-targets-by-id/1KTfVJfYEtZ8Wg_v95FrlVJvkRVR0FNfA/IEOR 142 Project/DATA\n"
          ]
        }
      ],
      "source": [
        "# Filepath selection\n",
        "%cd drive/My \\Drive/IEOR \\142\\ Project/DATA"
      ]
    },
    {
      "cell_type": "markdown",
      "metadata": {
        "id": "eRhZidyF8Nqy"
      },
      "source": [
        "## Part II: Data Upload, Cleaning, and Preprocessing"
      ]
    },
    {
      "cell_type": "markdown",
      "metadata": {
        "id": "nooIPsDw8isS"
      },
      "source": [
        "### BART Ridership Data"
      ]
    },
    {
      "cell_type": "code",
      "execution_count": null,
      "metadata": {
        "colab": {
          "base_uri": "https://localhost:8080/",
          "height": 354
        },
        "id": "YwQxi8xn_2yi",
        "outputId": "d927d4d3-f41f-4236-fa3b-078aaa8a2afb"
      },
      "outputs": [
        {
          "output_type": "error",
          "ename": "FileNotFoundError",
          "evalue": "ignored",
          "traceback": [
            "\u001b[0;31m---------------------------------------------------------------------------\u001b[0m",
            "\u001b[0;31mFileNotFoundError\u001b[0m                         Traceback (most recent call last)",
            "\u001b[0;32m<ipython-input-6-59ce8298c8fb>\u001b[0m in \u001b[0;36m<module>\u001b[0;34m\u001b[0m\n\u001b[1;32m      1\u001b[0m \u001b[0mcolnames\u001b[0m \u001b[0;34m=\u001b[0m \u001b[0;34m[\u001b[0m\u001b[0;34m\"date\"\u001b[0m\u001b[0;34m,\u001b[0m \u001b[0;34m\"hour\"\u001b[0m\u001b[0;34m,\u001b[0m \u001b[0;34m\"start_station\"\u001b[0m\u001b[0;34m,\u001b[0m \u001b[0;34m\"end_station\"\u001b[0m\u001b[0;34m,\u001b[0m \u001b[0;34m\"num_riders\"\u001b[0m\u001b[0;34m]\u001b[0m\u001b[0;34m\u001b[0m\u001b[0;34m\u001b[0m\u001b[0m\n\u001b[0;32m----> 2\u001b[0;31m \u001b[0mabbr\u001b[0m \u001b[0;34m=\u001b[0m \u001b[0mpd\u001b[0m\u001b[0;34m.\u001b[0m\u001b[0mread_csv\u001b[0m\u001b[0;34m(\u001b[0m\u001b[0;34m\"Bart-Station-Abbr.csv\"\u001b[0m\u001b[0;34m)\u001b[0m\u001b[0;34m\u001b[0m\u001b[0;34m\u001b[0m\u001b[0m\n\u001b[0m\u001b[1;32m      3\u001b[0m \u001b[0mabbr\u001b[0m\u001b[0;34m.\u001b[0m\u001b[0mdrop\u001b[0m\u001b[0;34m(\u001b[0m\u001b[0mcolumns\u001b[0m \u001b[0;34m=\u001b[0m \u001b[0;34m[\u001b[0m\u001b[0;34m'Abbr Low'\u001b[0m\u001b[0;34m]\u001b[0m\u001b[0;34m,\u001b[0m \u001b[0minplace\u001b[0m\u001b[0;34m=\u001b[0m\u001b[0;32mTrue\u001b[0m\u001b[0;34m)\u001b[0m\u001b[0;34m\u001b[0m\u001b[0;34m\u001b[0m\u001b[0m\n",
            "\u001b[0;32m/usr/local/lib/python3.8/dist-packages/pandas/util/_decorators.py\u001b[0m in \u001b[0;36mwrapper\u001b[0;34m(*args, **kwargs)\u001b[0m\n\u001b[1;32m    309\u001b[0m                     \u001b[0mstacklevel\u001b[0m\u001b[0;34m=\u001b[0m\u001b[0mstacklevel\u001b[0m\u001b[0;34m,\u001b[0m\u001b[0;34m\u001b[0m\u001b[0;34m\u001b[0m\u001b[0m\n\u001b[1;32m    310\u001b[0m                 )\n\u001b[0;32m--> 311\u001b[0;31m             \u001b[0;32mreturn\u001b[0m \u001b[0mfunc\u001b[0m\u001b[0;34m(\u001b[0m\u001b[0;34m*\u001b[0m\u001b[0margs\u001b[0m\u001b[0;34m,\u001b[0m \u001b[0;34m**\u001b[0m\u001b[0mkwargs\u001b[0m\u001b[0;34m)\u001b[0m\u001b[0;34m\u001b[0m\u001b[0;34m\u001b[0m\u001b[0m\n\u001b[0m\u001b[1;32m    312\u001b[0m \u001b[0;34m\u001b[0m\u001b[0m\n\u001b[1;32m    313\u001b[0m         \u001b[0;32mreturn\u001b[0m \u001b[0mwrapper\u001b[0m\u001b[0;34m\u001b[0m\u001b[0;34m\u001b[0m\u001b[0m\n",
            "\u001b[0;32m/usr/local/lib/python3.8/dist-packages/pandas/io/parsers/readers.py\u001b[0m in \u001b[0;36mread_csv\u001b[0;34m(filepath_or_buffer, sep, delimiter, header, names, index_col, usecols, squeeze, prefix, mangle_dupe_cols, dtype, engine, converters, true_values, false_values, skipinitialspace, skiprows, skipfooter, nrows, na_values, keep_default_na, na_filter, verbose, skip_blank_lines, parse_dates, infer_datetime_format, keep_date_col, date_parser, dayfirst, cache_dates, iterator, chunksize, compression, thousands, decimal, lineterminator, quotechar, quoting, doublequote, escapechar, comment, encoding, encoding_errors, dialect, error_bad_lines, warn_bad_lines, on_bad_lines, delim_whitespace, low_memory, memory_map, float_precision, storage_options)\u001b[0m\n\u001b[1;32m    584\u001b[0m     \u001b[0mkwds\u001b[0m\u001b[0;34m.\u001b[0m\u001b[0mupdate\u001b[0m\u001b[0;34m(\u001b[0m\u001b[0mkwds_defaults\u001b[0m\u001b[0;34m)\u001b[0m\u001b[0;34m\u001b[0m\u001b[0;34m\u001b[0m\u001b[0m\n\u001b[1;32m    585\u001b[0m \u001b[0;34m\u001b[0m\u001b[0m\n\u001b[0;32m--> 586\u001b[0;31m     \u001b[0;32mreturn\u001b[0m \u001b[0m_read\u001b[0m\u001b[0;34m(\u001b[0m\u001b[0mfilepath_or_buffer\u001b[0m\u001b[0;34m,\u001b[0m \u001b[0mkwds\u001b[0m\u001b[0;34m)\u001b[0m\u001b[0;34m\u001b[0m\u001b[0;34m\u001b[0m\u001b[0m\n\u001b[0m\u001b[1;32m    587\u001b[0m \u001b[0;34m\u001b[0m\u001b[0m\n\u001b[1;32m    588\u001b[0m \u001b[0;34m\u001b[0m\u001b[0m\n",
            "\u001b[0;32m/usr/local/lib/python3.8/dist-packages/pandas/io/parsers/readers.py\u001b[0m in \u001b[0;36m_read\u001b[0;34m(filepath_or_buffer, kwds)\u001b[0m\n\u001b[1;32m    480\u001b[0m \u001b[0;34m\u001b[0m\u001b[0m\n\u001b[1;32m    481\u001b[0m     \u001b[0;31m# Create the parser.\u001b[0m\u001b[0;34m\u001b[0m\u001b[0;34m\u001b[0m\u001b[0;34m\u001b[0m\u001b[0m\n\u001b[0;32m--> 482\u001b[0;31m     \u001b[0mparser\u001b[0m \u001b[0;34m=\u001b[0m \u001b[0mTextFileReader\u001b[0m\u001b[0;34m(\u001b[0m\u001b[0mfilepath_or_buffer\u001b[0m\u001b[0;34m,\u001b[0m \u001b[0;34m**\u001b[0m\u001b[0mkwds\u001b[0m\u001b[0;34m)\u001b[0m\u001b[0;34m\u001b[0m\u001b[0;34m\u001b[0m\u001b[0m\n\u001b[0m\u001b[1;32m    483\u001b[0m \u001b[0;34m\u001b[0m\u001b[0m\n\u001b[1;32m    484\u001b[0m     \u001b[0;32mif\u001b[0m \u001b[0mchunksize\u001b[0m \u001b[0;32mor\u001b[0m \u001b[0miterator\u001b[0m\u001b[0;34m:\u001b[0m\u001b[0;34m\u001b[0m\u001b[0;34m\u001b[0m\u001b[0m\n",
            "\u001b[0;32m/usr/local/lib/python3.8/dist-packages/pandas/io/parsers/readers.py\u001b[0m in \u001b[0;36m__init__\u001b[0;34m(self, f, engine, **kwds)\u001b[0m\n\u001b[1;32m    809\u001b[0m             \u001b[0mself\u001b[0m\u001b[0;34m.\u001b[0m\u001b[0moptions\u001b[0m\u001b[0;34m[\u001b[0m\u001b[0;34m\"has_index_names\"\u001b[0m\u001b[0;34m]\u001b[0m \u001b[0;34m=\u001b[0m \u001b[0mkwds\u001b[0m\u001b[0;34m[\u001b[0m\u001b[0;34m\"has_index_names\"\u001b[0m\u001b[0;34m]\u001b[0m\u001b[0;34m\u001b[0m\u001b[0;34m\u001b[0m\u001b[0m\n\u001b[1;32m    810\u001b[0m \u001b[0;34m\u001b[0m\u001b[0m\n\u001b[0;32m--> 811\u001b[0;31m         \u001b[0mself\u001b[0m\u001b[0;34m.\u001b[0m\u001b[0m_engine\u001b[0m \u001b[0;34m=\u001b[0m \u001b[0mself\u001b[0m\u001b[0;34m.\u001b[0m\u001b[0m_make_engine\u001b[0m\u001b[0;34m(\u001b[0m\u001b[0mself\u001b[0m\u001b[0;34m.\u001b[0m\u001b[0mengine\u001b[0m\u001b[0;34m)\u001b[0m\u001b[0;34m\u001b[0m\u001b[0;34m\u001b[0m\u001b[0m\n\u001b[0m\u001b[1;32m    812\u001b[0m \u001b[0;34m\u001b[0m\u001b[0m\n\u001b[1;32m    813\u001b[0m     \u001b[0;32mdef\u001b[0m \u001b[0mclose\u001b[0m\u001b[0;34m(\u001b[0m\u001b[0mself\u001b[0m\u001b[0;34m)\u001b[0m\u001b[0;34m:\u001b[0m\u001b[0;34m\u001b[0m\u001b[0;34m\u001b[0m\u001b[0m\n",
            "\u001b[0;32m/usr/local/lib/python3.8/dist-packages/pandas/io/parsers/readers.py\u001b[0m in \u001b[0;36m_make_engine\u001b[0;34m(self, engine)\u001b[0m\n\u001b[1;32m   1038\u001b[0m             )\n\u001b[1;32m   1039\u001b[0m         \u001b[0;31m# error: Too many arguments for \"ParserBase\"\u001b[0m\u001b[0;34m\u001b[0m\u001b[0;34m\u001b[0m\u001b[0;34m\u001b[0m\u001b[0m\n\u001b[0;32m-> 1040\u001b[0;31m         \u001b[0;32mreturn\u001b[0m \u001b[0mmapping\u001b[0m\u001b[0;34m[\u001b[0m\u001b[0mengine\u001b[0m\u001b[0;34m]\u001b[0m\u001b[0;34m(\u001b[0m\u001b[0mself\u001b[0m\u001b[0;34m.\u001b[0m\u001b[0mf\u001b[0m\u001b[0;34m,\u001b[0m \u001b[0;34m**\u001b[0m\u001b[0mself\u001b[0m\u001b[0;34m.\u001b[0m\u001b[0moptions\u001b[0m\u001b[0;34m)\u001b[0m  \u001b[0;31m# type: ignore[call-arg]\u001b[0m\u001b[0;34m\u001b[0m\u001b[0;34m\u001b[0m\u001b[0m\n\u001b[0m\u001b[1;32m   1041\u001b[0m \u001b[0;34m\u001b[0m\u001b[0m\n\u001b[1;32m   1042\u001b[0m     \u001b[0;32mdef\u001b[0m \u001b[0m_failover_to_python\u001b[0m\u001b[0;34m(\u001b[0m\u001b[0mself\u001b[0m\u001b[0;34m)\u001b[0m\u001b[0;34m:\u001b[0m\u001b[0;34m\u001b[0m\u001b[0;34m\u001b[0m\u001b[0m\n",
            "\u001b[0;32m/usr/local/lib/python3.8/dist-packages/pandas/io/parsers/c_parser_wrapper.py\u001b[0m in \u001b[0;36m__init__\u001b[0;34m(self, src, **kwds)\u001b[0m\n\u001b[1;32m     49\u001b[0m \u001b[0;34m\u001b[0m\u001b[0m\n\u001b[1;32m     50\u001b[0m         \u001b[0;31m# open handles\u001b[0m\u001b[0;34m\u001b[0m\u001b[0;34m\u001b[0m\u001b[0;34m\u001b[0m\u001b[0m\n\u001b[0;32m---> 51\u001b[0;31m         \u001b[0mself\u001b[0m\u001b[0;34m.\u001b[0m\u001b[0m_open_handles\u001b[0m\u001b[0;34m(\u001b[0m\u001b[0msrc\u001b[0m\u001b[0;34m,\u001b[0m \u001b[0mkwds\u001b[0m\u001b[0;34m)\u001b[0m\u001b[0;34m\u001b[0m\u001b[0;34m\u001b[0m\u001b[0m\n\u001b[0m\u001b[1;32m     52\u001b[0m         \u001b[0;32massert\u001b[0m \u001b[0mself\u001b[0m\u001b[0;34m.\u001b[0m\u001b[0mhandles\u001b[0m \u001b[0;32mis\u001b[0m \u001b[0;32mnot\u001b[0m \u001b[0;32mNone\u001b[0m\u001b[0;34m\u001b[0m\u001b[0;34m\u001b[0m\u001b[0m\n\u001b[1;32m     53\u001b[0m \u001b[0;34m\u001b[0m\u001b[0m\n",
            "\u001b[0;32m/usr/local/lib/python3.8/dist-packages/pandas/io/parsers/base_parser.py\u001b[0m in \u001b[0;36m_open_handles\u001b[0;34m(self, src, kwds)\u001b[0m\n\u001b[1;32m    220\u001b[0m         \u001b[0mLet\u001b[0m \u001b[0mthe\u001b[0m \u001b[0mreaders\u001b[0m \u001b[0mopen\u001b[0m \u001b[0mIOHandles\u001b[0m \u001b[0mafter\u001b[0m \u001b[0mthey\u001b[0m \u001b[0mare\u001b[0m \u001b[0mdone\u001b[0m \u001b[0;32mwith\u001b[0m \u001b[0mtheir\u001b[0m \u001b[0mpotential\u001b[0m \u001b[0mraises\u001b[0m\u001b[0;34m.\u001b[0m\u001b[0;34m\u001b[0m\u001b[0;34m\u001b[0m\u001b[0m\n\u001b[1;32m    221\u001b[0m         \"\"\"\n\u001b[0;32m--> 222\u001b[0;31m         self.handles = get_handle(\n\u001b[0m\u001b[1;32m    223\u001b[0m             \u001b[0msrc\u001b[0m\u001b[0;34m,\u001b[0m\u001b[0;34m\u001b[0m\u001b[0;34m\u001b[0m\u001b[0m\n\u001b[1;32m    224\u001b[0m             \u001b[0;34m\"r\"\u001b[0m\u001b[0;34m,\u001b[0m\u001b[0;34m\u001b[0m\u001b[0;34m\u001b[0m\u001b[0m\n",
            "\u001b[0;32m/usr/local/lib/python3.8/dist-packages/pandas/io/common.py\u001b[0m in \u001b[0;36mget_handle\u001b[0;34m(path_or_buf, mode, encoding, compression, memory_map, is_text, errors, storage_options)\u001b[0m\n\u001b[1;32m    700\u001b[0m         \u001b[0;32mif\u001b[0m \u001b[0mioargs\u001b[0m\u001b[0;34m.\u001b[0m\u001b[0mencoding\u001b[0m \u001b[0;32mand\u001b[0m \u001b[0;34m\"b\"\u001b[0m \u001b[0;32mnot\u001b[0m \u001b[0;32min\u001b[0m \u001b[0mioargs\u001b[0m\u001b[0;34m.\u001b[0m\u001b[0mmode\u001b[0m\u001b[0;34m:\u001b[0m\u001b[0;34m\u001b[0m\u001b[0;34m\u001b[0m\u001b[0m\n\u001b[1;32m    701\u001b[0m             \u001b[0;31m# Encoding\u001b[0m\u001b[0;34m\u001b[0m\u001b[0;34m\u001b[0m\u001b[0;34m\u001b[0m\u001b[0m\n\u001b[0;32m--> 702\u001b[0;31m             handle = open(\n\u001b[0m\u001b[1;32m    703\u001b[0m                 \u001b[0mhandle\u001b[0m\u001b[0;34m,\u001b[0m\u001b[0;34m\u001b[0m\u001b[0;34m\u001b[0m\u001b[0m\n\u001b[1;32m    704\u001b[0m                 \u001b[0mioargs\u001b[0m\u001b[0;34m.\u001b[0m\u001b[0mmode\u001b[0m\u001b[0;34m,\u001b[0m\u001b[0;34m\u001b[0m\u001b[0;34m\u001b[0m\u001b[0m\n",
            "\u001b[0;31mFileNotFoundError\u001b[0m: [Errno 2] No such file or directory: 'Bart-Station-Abbr.csv'"
          ]
        }
      ],
      "source": [
        "colnames = [\"date\", \"hour\", \"start_station\", \"end_station\", \"num_riders\"]\n",
        "abbr = pd.read_csv(\"Bart-Station-Abbr.csv\")\n",
        "abbr.drop(columns = ['Abbr Low'], inplace=True)"
      ]
    },
    {
      "cell_type": "code",
      "execution_count": null,
      "metadata": {
        "id": "5GGR0a9DSDSX"
      },
      "outputs": [],
      "source": [
        "# processing function - convert stations to general regions\n",
        "def groupby_region (year_df, abbr):\n",
        "  year_df = year_df.join(abbr.set_index('Abbr'), on='start_station')\n",
        "  year_df = year_df.rename(columns={\"Region\": \"start_region\"})\n",
        "  year_df.drop(columns = ['Station Name'], inplace=True)\n",
        "  year_df = year_df.join(abbr.set_index('Abbr'), on='end_station')\n",
        "  year_df = year_df.rename(columns={\"Region\": \"end_region\"})\n",
        "  year_df.drop(columns = ['Station Name'], inplace=True)\n",
        "  year_df = year_df.groupby(['date', 'hour', 'start_region', 'end_region']).sum().reset_index()\n",
        "  return year_df[['date', 'hour', 'start_region', 'end_region', 'num_riders']]\n",
        "\n",
        "def groupby_dayhour(year_df):\n",
        "  year_df = year_df.groupby(['date', 'hour']).sum().reset_index()\n",
        "  return year_df[['date', 'hour', 'num_riders']]"
      ]
    },
    {
      "cell_type": "code",
      "execution_count": null,
      "metadata": {
        "id": "aY_0DZb18mF9"
      },
      "outputs": [],
      "source": [
        "d2011 = pd.read_csv(\"d2011.csv\", names=colnames, header=None)\n",
        "d2012 = pd.read_csv(\"d2012.csv\", names=colnames, header=None)\n",
        "d2013 = pd.read_csv(\"d2013.csv\", names=colnames, header=None)\n",
        "d2014 = pd.read_csv(\"d2014.csv\", names=colnames, header=None)\n",
        "d2015 = pd.read_csv(\"d2015.csv\", names=colnames, header=None)\n",
        "d2016 = pd.read_csv(\"d2016.csv\", names=colnames, header=None)\n",
        "d2017 = pd.read_csv(\"d2017.csv\", names=colnames, header=None)\n",
        "d2018 = pd.read_csv(\"d2018.csv\", names=colnames, header=None)\n",
        "d2019 = pd.read_csv(\"d2019.csv\", names=colnames, header=None)\n",
        "d2020 = pd.read_csv(\"d2020.csv\", names=colnames, header=None)\n",
        "d2021 = pd.read_csv(\"d2021.csv\", names=colnames, header=None)\n",
        "d2022 = pd.read_csv(\"d2022.csv\", names=colnames, header=None)"
      ]
    },
    {
      "cell_type": "code",
      "execution_count": null,
      "metadata": {
        "id": "wwBWxfOXTb6G"
      },
      "outputs": [],
      "source": [
        "d2011 = groupby_dayhour(d2011)\n",
        "d2012 = groupby_dayhour(d2012)\n",
        "d2013 = groupby_dayhour(d2013)\n",
        "d2014 = groupby_dayhour(d2014)\n",
        "d2015 = groupby_dayhour(d2015)\n",
        "d2016 = groupby_dayhour(d2016)\n",
        "d2017 = groupby_dayhour(d2017)\n",
        "d2018 = groupby_dayhour(d2018)\n",
        "d2019 = groupby_dayhour(d2019)\n",
        "d2020 = groupby_dayhour(d2020)\n",
        "d2021 = groupby_dayhour(d2021)\n",
        "d2022 = groupby_dayhour(d2022)"
      ]
    },
    {
      "cell_type": "code",
      "execution_count": null,
      "metadata": {
        "id": "yl0Xz4-r-ppR"
      },
      "outputs": [],
      "source": [
        "bart = pd.concat([d2011, d2012, d2013, d2014, d2015, d2016, d2017, d2018, d2019, d2020, d2021, d2022], axis=0, ignore_index=True)\n",
        "# convert to datetime\n",
        "bart[\"date\"] = pd.to_datetime(bart[\"date\"], infer_datetime_format = True)"
      ]
    },
    {
      "cell_type": "code",
      "execution_count": null,
      "metadata": {
        "id": "KDeDPJX2U57j"
      },
      "outputs": [],
      "source": [
        "bart = bart.groupby(['date', 'hour']).mean().reset_index()\n",
        "bart = bart.sort_values(['date', 'hour'])\n",
        "print(bart.shape)\n",
        "bart.head()"
      ]
    },
    {
      "cell_type": "markdown",
      "metadata": {
        "id": "fOzt1i4Gdx50"
      },
      "source": [
        "### Data Consistency"
      ]
    },
    {
      "cell_type": "code",
      "execution_count": null,
      "metadata": {
        "id": "lSS13YonV7jU"
      },
      "outputs": [],
      "source": [
        "# Add correct indicies\n",
        "for index, row in bart.iterrows():\n",
        "  if(index%10000 == 0):\n",
        "    print(\"index:\", index)\n",
        "  init_date = datetime.datetime(2011, 1, 1)\n",
        "  elapsed = row['date'] - init_date\n",
        "  total = elapsed.days * 24 + row['hour']\n",
        "  bart.loc[index, ['prime']] = total"
      ]
    },
    {
      "cell_type": "code",
      "execution_count": null,
      "metadata": {
        "id": "5s2kTYp6F7NP"
      },
      "outputs": [],
      "source": [
        "# Find missing rows\n",
        "news, hours, zers, primes = [], [], [], []\n",
        "i = 0\n",
        "for index, row in bart.iterrows():\n",
        "  p = row['prime']\n",
        "  while (i < p):\n",
        "    ind = i\n",
        "    days_elapsed = ind//24\n",
        "    hours.append(ind%24)\n",
        "    news.append(init_date + datetime.timedelta(days=days_elapsed))\n",
        "    zers.append(0)\n",
        "    primes.append(ind)\n",
        "    i += 1\n",
        "  i += 1"
      ]
    },
    {
      "cell_type": "code",
      "execution_count": null,
      "metadata": {
        "id": "XolpXkJA3EMy"
      },
      "outputs": [],
      "source": [
        "# Add in missing rows\n",
        "map = {\n",
        "    \"date\": news,\n",
        "    \"hour\": hours,\n",
        "    \"num_riders\": zers,\n",
        "    \"prime\": primes\n",
        "}\n",
        "\n",
        "df2 = pd.DataFrame(map)\n",
        "df2.shape\n",
        "bart = pd.concat([bart, df2], ignore_index = True)"
      ]
    },
    {
      "cell_type": "code",
      "execution_count": null,
      "metadata": {
        "id": "lx38RN6U6XjA"
      },
      "outputs": [],
      "source": [
        "# Re-index based on proper indicies\n",
        "bart = bart.sort_values('prime')\n",
        "bart.reset_index(inplace=True)\n",
        "bart.tail()"
      ]
    },
    {
      "cell_type": "code",
      "execution_count": null,
      "metadata": {
        "id": "OBuScyWiAsjc"
      },
      "outputs": [],
      "source": [
        "# Drop extra index column\n",
        "print(bart.shape)\n",
        "bart.drop(columns = ['index', 'prime'], inplace = True)\n",
        "bart.head()"
      ]
    },
    {
      "cell_type": "code",
      "execution_count": null,
      "metadata": {
        "id": "QilNdABLackZ"
      },
      "outputs": [],
      "source": [
        "bart['yesterday'] = bart['transbayUtil'].shift(24)\n",
        "bart['lastHour'] = bart['transbayUtil'].shift(1)\n",
        "bart['dayOfWeek'] = bart['date'].dt.day_name()"
      ]
    },
    {
      "cell_type": "markdown",
      "metadata": {
        "id": "i0hW5yCdyXTB"
      },
      "source": [
        "### Special Events Data"
      ]
    },
    {
      "cell_type": "code",
      "execution_count": null,
      "metadata": {
        "id": "RDnaPfsayZSH"
      },
      "outputs": [],
      "source": [
        "df_sf = pd.read_csv('SFGiants.csv')\n",
        "df_oa = pd.read_csv('OaklandAs.csv')\n",
        "\n",
        "# Only home games\n",
        "mask = df_sf['Opponent'].str[:2] == 'vs'\n",
        "df_sf = df_sf[mask]\n",
        "mask = df_oa['Opponent'].str[:2] == 'vs'\n",
        "df_oa = df_oa[mask]"
      ]
    },
    {
      "cell_type": "code",
      "execution_count": null,
      "metadata": {
        "id": "qAwbHMFgDTz3"
      },
      "outputs": [],
      "source": [
        "bart['date'] = bart['datetime'].dt.date\n",
        "bart[\"date\"] = pd.to_datetime(bart[\"date\"], infer_datetime_format = True)"
      ]
    },
    {
      "cell_type": "code",
      "execution_count": null,
      "metadata": {
        "id": "RCyjQFDvyyGI"
      },
      "outputs": [],
      "source": [
        "df_oa[\"Date\"] = pd.to_datetime(df_oa[\"Date\"], infer_datetime_format = True)\n",
        "df_sf[\"Date\"] = pd.to_datetime(df_sf[\"Date\"], infer_datetime_format = True)\n",
        "\n",
        "bart['sfGiants'] = bart['date'].isin(df_sf['Date']).astype(int)\n",
        "bart['oakAs'] = bart['date'].isin(df_oa['Date']).astype(int)\n",
        "bart.drop(columns = ['date'], inplace = True)"
      ]
    },
    {
      "cell_type": "code",
      "execution_count": null,
      "metadata": {
        "id": "egUVGmC3J3KC"
      },
      "outputs": [],
      "source": [
        "# Write out csv\n",
        "bart.to_csv('bartHour_1122.csv') \n",
        "files.download('bartHour_1122.csv')"
      ]
    },
    {
      "cell_type": "markdown",
      "metadata": {
        "id": "PYkbKQVx0BzW"
      },
      "source": [
        "### Taras's Data Processing"
      ]
    },
    {
      "cell_type": "code",
      "execution_count": null,
      "metadata": {
        "id": "vkxnUGHszTGP",
        "colab": {
          "base_uri": "https://localhost:8080/",
          "height": 372
        },
        "outputId": "afc6d5b2-4041-4fe3-dfd4-fb5ec0ce7101"
      },
      "outputs": [
        {
          "output_type": "error",
          "ename": "FileNotFoundError",
          "evalue": "ignored",
          "traceback": [
            "\u001b[0;31m---------------------------------------------------------------------------\u001b[0m",
            "\u001b[0;31mFileNotFoundError\u001b[0m                         Traceback (most recent call last)",
            "\u001b[0;32m<ipython-input-7-327428a372fa>\u001b[0m in \u001b[0;36m<module>\u001b[0;34m\u001b[0m\n\u001b[1;32m      1\u001b[0m \u001b[0;31m# Processing Taras's 2021-2022 Data\u001b[0m\u001b[0;34m\u001b[0m\u001b[0;34m\u001b[0m\u001b[0;34m\u001b[0m\u001b[0m\n\u001b[0;32m----> 2\u001b[0;31m \u001b[0mbart\u001b[0m \u001b[0;34m=\u001b[0m \u001b[0mpd\u001b[0m\u001b[0;34m.\u001b[0m\u001b[0mread_csv\u001b[0m\u001b[0;34m(\u001b[0m\u001b[0;34m\"bartDataset20112022.csv\"\u001b[0m\u001b[0;34m)\u001b[0m\u001b[0;34m\u001b[0m\u001b[0;34m\u001b[0m\u001b[0m\n\u001b[0m\u001b[1;32m      3\u001b[0m \u001b[0mbart\u001b[0m\u001b[0;34m.\u001b[0m\u001b[0mrename\u001b[0m\u001b[0;34m(\u001b[0m\u001b[0mcolumns\u001b[0m\u001b[0;34m=\u001b[0m\u001b[0;34m{\u001b[0m\u001b[0;34m'Unnamed: 0'\u001b[0m\u001b[0;34m:\u001b[0m \u001b[0;34m'datetime'\u001b[0m\u001b[0;34m}\u001b[0m\u001b[0;34m,\u001b[0m \u001b[0minplace\u001b[0m\u001b[0;34m=\u001b[0m\u001b[0;32mTrue\u001b[0m\u001b[0;34m)\u001b[0m\u001b[0;34m\u001b[0m\u001b[0;34m\u001b[0m\u001b[0m\n\u001b[1;32m      4\u001b[0m \u001b[0mbart\u001b[0m\u001b[0;34m[\u001b[0m\u001b[0;34m\"datetime\"\u001b[0m\u001b[0;34m]\u001b[0m \u001b[0;34m=\u001b[0m \u001b[0mpd\u001b[0m\u001b[0;34m.\u001b[0m\u001b[0mto_datetime\u001b[0m\u001b[0;34m(\u001b[0m\u001b[0mbart\u001b[0m\u001b[0;34m[\u001b[0m\u001b[0;34m\"datetime\"\u001b[0m\u001b[0;34m]\u001b[0m\u001b[0;34m,\u001b[0m \u001b[0minfer_datetime_format\u001b[0m \u001b[0;34m=\u001b[0m \u001b[0;32mTrue\u001b[0m\u001b[0;34m)\u001b[0m\u001b[0;34m\u001b[0m\u001b[0;34m\u001b[0m\u001b[0m\n",
            "\u001b[0;32m/usr/local/lib/python3.8/dist-packages/pandas/util/_decorators.py\u001b[0m in \u001b[0;36mwrapper\u001b[0;34m(*args, **kwargs)\u001b[0m\n\u001b[1;32m    309\u001b[0m                     \u001b[0mstacklevel\u001b[0m\u001b[0;34m=\u001b[0m\u001b[0mstacklevel\u001b[0m\u001b[0;34m,\u001b[0m\u001b[0;34m\u001b[0m\u001b[0;34m\u001b[0m\u001b[0m\n\u001b[1;32m    310\u001b[0m                 )\n\u001b[0;32m--> 311\u001b[0;31m             \u001b[0;32mreturn\u001b[0m \u001b[0mfunc\u001b[0m\u001b[0;34m(\u001b[0m\u001b[0;34m*\u001b[0m\u001b[0margs\u001b[0m\u001b[0;34m,\u001b[0m \u001b[0;34m**\u001b[0m\u001b[0mkwargs\u001b[0m\u001b[0;34m)\u001b[0m\u001b[0;34m\u001b[0m\u001b[0;34m\u001b[0m\u001b[0m\n\u001b[0m\u001b[1;32m    312\u001b[0m \u001b[0;34m\u001b[0m\u001b[0m\n\u001b[1;32m    313\u001b[0m         \u001b[0;32mreturn\u001b[0m \u001b[0mwrapper\u001b[0m\u001b[0;34m\u001b[0m\u001b[0;34m\u001b[0m\u001b[0m\n",
            "\u001b[0;32m/usr/local/lib/python3.8/dist-packages/pandas/io/parsers/readers.py\u001b[0m in \u001b[0;36mread_csv\u001b[0;34m(filepath_or_buffer, sep, delimiter, header, names, index_col, usecols, squeeze, prefix, mangle_dupe_cols, dtype, engine, converters, true_values, false_values, skipinitialspace, skiprows, skipfooter, nrows, na_values, keep_default_na, na_filter, verbose, skip_blank_lines, parse_dates, infer_datetime_format, keep_date_col, date_parser, dayfirst, cache_dates, iterator, chunksize, compression, thousands, decimal, lineterminator, quotechar, quoting, doublequote, escapechar, comment, encoding, encoding_errors, dialect, error_bad_lines, warn_bad_lines, on_bad_lines, delim_whitespace, low_memory, memory_map, float_precision, storage_options)\u001b[0m\n\u001b[1;32m    584\u001b[0m     \u001b[0mkwds\u001b[0m\u001b[0;34m.\u001b[0m\u001b[0mupdate\u001b[0m\u001b[0;34m(\u001b[0m\u001b[0mkwds_defaults\u001b[0m\u001b[0;34m)\u001b[0m\u001b[0;34m\u001b[0m\u001b[0;34m\u001b[0m\u001b[0m\n\u001b[1;32m    585\u001b[0m \u001b[0;34m\u001b[0m\u001b[0m\n\u001b[0;32m--> 586\u001b[0;31m     \u001b[0;32mreturn\u001b[0m \u001b[0m_read\u001b[0m\u001b[0;34m(\u001b[0m\u001b[0mfilepath_or_buffer\u001b[0m\u001b[0;34m,\u001b[0m \u001b[0mkwds\u001b[0m\u001b[0;34m)\u001b[0m\u001b[0;34m\u001b[0m\u001b[0;34m\u001b[0m\u001b[0m\n\u001b[0m\u001b[1;32m    587\u001b[0m \u001b[0;34m\u001b[0m\u001b[0m\n\u001b[1;32m    588\u001b[0m \u001b[0;34m\u001b[0m\u001b[0m\n",
            "\u001b[0;32m/usr/local/lib/python3.8/dist-packages/pandas/io/parsers/readers.py\u001b[0m in \u001b[0;36m_read\u001b[0;34m(filepath_or_buffer, kwds)\u001b[0m\n\u001b[1;32m    480\u001b[0m \u001b[0;34m\u001b[0m\u001b[0m\n\u001b[1;32m    481\u001b[0m     \u001b[0;31m# Create the parser.\u001b[0m\u001b[0;34m\u001b[0m\u001b[0;34m\u001b[0m\u001b[0;34m\u001b[0m\u001b[0m\n\u001b[0;32m--> 482\u001b[0;31m     \u001b[0mparser\u001b[0m \u001b[0;34m=\u001b[0m \u001b[0mTextFileReader\u001b[0m\u001b[0;34m(\u001b[0m\u001b[0mfilepath_or_buffer\u001b[0m\u001b[0;34m,\u001b[0m \u001b[0;34m**\u001b[0m\u001b[0mkwds\u001b[0m\u001b[0;34m)\u001b[0m\u001b[0;34m\u001b[0m\u001b[0;34m\u001b[0m\u001b[0m\n\u001b[0m\u001b[1;32m    483\u001b[0m \u001b[0;34m\u001b[0m\u001b[0m\n\u001b[1;32m    484\u001b[0m     \u001b[0;32mif\u001b[0m \u001b[0mchunksize\u001b[0m \u001b[0;32mor\u001b[0m \u001b[0miterator\u001b[0m\u001b[0;34m:\u001b[0m\u001b[0;34m\u001b[0m\u001b[0;34m\u001b[0m\u001b[0m\n",
            "\u001b[0;32m/usr/local/lib/python3.8/dist-packages/pandas/io/parsers/readers.py\u001b[0m in \u001b[0;36m__init__\u001b[0;34m(self, f, engine, **kwds)\u001b[0m\n\u001b[1;32m    809\u001b[0m             \u001b[0mself\u001b[0m\u001b[0;34m.\u001b[0m\u001b[0moptions\u001b[0m\u001b[0;34m[\u001b[0m\u001b[0;34m\"has_index_names\"\u001b[0m\u001b[0;34m]\u001b[0m \u001b[0;34m=\u001b[0m \u001b[0mkwds\u001b[0m\u001b[0;34m[\u001b[0m\u001b[0;34m\"has_index_names\"\u001b[0m\u001b[0;34m]\u001b[0m\u001b[0;34m\u001b[0m\u001b[0;34m\u001b[0m\u001b[0m\n\u001b[1;32m    810\u001b[0m \u001b[0;34m\u001b[0m\u001b[0m\n\u001b[0;32m--> 811\u001b[0;31m         \u001b[0mself\u001b[0m\u001b[0;34m.\u001b[0m\u001b[0m_engine\u001b[0m \u001b[0;34m=\u001b[0m \u001b[0mself\u001b[0m\u001b[0;34m.\u001b[0m\u001b[0m_make_engine\u001b[0m\u001b[0;34m(\u001b[0m\u001b[0mself\u001b[0m\u001b[0;34m.\u001b[0m\u001b[0mengine\u001b[0m\u001b[0;34m)\u001b[0m\u001b[0;34m\u001b[0m\u001b[0;34m\u001b[0m\u001b[0m\n\u001b[0m\u001b[1;32m    812\u001b[0m \u001b[0;34m\u001b[0m\u001b[0m\n\u001b[1;32m    813\u001b[0m     \u001b[0;32mdef\u001b[0m \u001b[0mclose\u001b[0m\u001b[0;34m(\u001b[0m\u001b[0mself\u001b[0m\u001b[0;34m)\u001b[0m\u001b[0;34m:\u001b[0m\u001b[0;34m\u001b[0m\u001b[0;34m\u001b[0m\u001b[0m\n",
            "\u001b[0;32m/usr/local/lib/python3.8/dist-packages/pandas/io/parsers/readers.py\u001b[0m in \u001b[0;36m_make_engine\u001b[0;34m(self, engine)\u001b[0m\n\u001b[1;32m   1038\u001b[0m             )\n\u001b[1;32m   1039\u001b[0m         \u001b[0;31m# error: Too many arguments for \"ParserBase\"\u001b[0m\u001b[0;34m\u001b[0m\u001b[0;34m\u001b[0m\u001b[0;34m\u001b[0m\u001b[0m\n\u001b[0;32m-> 1040\u001b[0;31m         \u001b[0;32mreturn\u001b[0m \u001b[0mmapping\u001b[0m\u001b[0;34m[\u001b[0m\u001b[0mengine\u001b[0m\u001b[0;34m]\u001b[0m\u001b[0;34m(\u001b[0m\u001b[0mself\u001b[0m\u001b[0;34m.\u001b[0m\u001b[0mf\u001b[0m\u001b[0;34m,\u001b[0m \u001b[0;34m**\u001b[0m\u001b[0mself\u001b[0m\u001b[0;34m.\u001b[0m\u001b[0moptions\u001b[0m\u001b[0;34m)\u001b[0m  \u001b[0;31m# type: ignore[call-arg]\u001b[0m\u001b[0;34m\u001b[0m\u001b[0;34m\u001b[0m\u001b[0m\n\u001b[0m\u001b[1;32m   1041\u001b[0m \u001b[0;34m\u001b[0m\u001b[0m\n\u001b[1;32m   1042\u001b[0m     \u001b[0;32mdef\u001b[0m \u001b[0m_failover_to_python\u001b[0m\u001b[0;34m(\u001b[0m\u001b[0mself\u001b[0m\u001b[0;34m)\u001b[0m\u001b[0;34m:\u001b[0m\u001b[0;34m\u001b[0m\u001b[0;34m\u001b[0m\u001b[0m\n",
            "\u001b[0;32m/usr/local/lib/python3.8/dist-packages/pandas/io/parsers/c_parser_wrapper.py\u001b[0m in \u001b[0;36m__init__\u001b[0;34m(self, src, **kwds)\u001b[0m\n\u001b[1;32m     49\u001b[0m \u001b[0;34m\u001b[0m\u001b[0m\n\u001b[1;32m     50\u001b[0m         \u001b[0;31m# open handles\u001b[0m\u001b[0;34m\u001b[0m\u001b[0;34m\u001b[0m\u001b[0;34m\u001b[0m\u001b[0m\n\u001b[0;32m---> 51\u001b[0;31m         \u001b[0mself\u001b[0m\u001b[0;34m.\u001b[0m\u001b[0m_open_handles\u001b[0m\u001b[0;34m(\u001b[0m\u001b[0msrc\u001b[0m\u001b[0;34m,\u001b[0m \u001b[0mkwds\u001b[0m\u001b[0;34m)\u001b[0m\u001b[0;34m\u001b[0m\u001b[0;34m\u001b[0m\u001b[0m\n\u001b[0m\u001b[1;32m     52\u001b[0m         \u001b[0;32massert\u001b[0m \u001b[0mself\u001b[0m\u001b[0;34m.\u001b[0m\u001b[0mhandles\u001b[0m \u001b[0;32mis\u001b[0m \u001b[0;32mnot\u001b[0m \u001b[0;32mNone\u001b[0m\u001b[0;34m\u001b[0m\u001b[0;34m\u001b[0m\u001b[0m\n\u001b[1;32m     53\u001b[0m \u001b[0;34m\u001b[0m\u001b[0m\n",
            "\u001b[0;32m/usr/local/lib/python3.8/dist-packages/pandas/io/parsers/base_parser.py\u001b[0m in \u001b[0;36m_open_handles\u001b[0;34m(self, src, kwds)\u001b[0m\n\u001b[1;32m    220\u001b[0m         \u001b[0mLet\u001b[0m \u001b[0mthe\u001b[0m \u001b[0mreaders\u001b[0m \u001b[0mopen\u001b[0m \u001b[0mIOHandles\u001b[0m \u001b[0mafter\u001b[0m \u001b[0mthey\u001b[0m \u001b[0mare\u001b[0m \u001b[0mdone\u001b[0m \u001b[0;32mwith\u001b[0m \u001b[0mtheir\u001b[0m \u001b[0mpotential\u001b[0m \u001b[0mraises\u001b[0m\u001b[0;34m.\u001b[0m\u001b[0;34m\u001b[0m\u001b[0;34m\u001b[0m\u001b[0m\n\u001b[1;32m    221\u001b[0m         \"\"\"\n\u001b[0;32m--> 222\u001b[0;31m         self.handles = get_handle(\n\u001b[0m\u001b[1;32m    223\u001b[0m             \u001b[0msrc\u001b[0m\u001b[0;34m,\u001b[0m\u001b[0;34m\u001b[0m\u001b[0;34m\u001b[0m\u001b[0m\n\u001b[1;32m    224\u001b[0m             \u001b[0;34m\"r\"\u001b[0m\u001b[0;34m,\u001b[0m\u001b[0;34m\u001b[0m\u001b[0;34m\u001b[0m\u001b[0m\n",
            "\u001b[0;32m/usr/local/lib/python3.8/dist-packages/pandas/io/common.py\u001b[0m in \u001b[0;36mget_handle\u001b[0;34m(path_or_buf, mode, encoding, compression, memory_map, is_text, errors, storage_options)\u001b[0m\n\u001b[1;32m    700\u001b[0m         \u001b[0;32mif\u001b[0m \u001b[0mioargs\u001b[0m\u001b[0;34m.\u001b[0m\u001b[0mencoding\u001b[0m \u001b[0;32mand\u001b[0m \u001b[0;34m\"b\"\u001b[0m \u001b[0;32mnot\u001b[0m \u001b[0;32min\u001b[0m \u001b[0mioargs\u001b[0m\u001b[0;34m.\u001b[0m\u001b[0mmode\u001b[0m\u001b[0;34m:\u001b[0m\u001b[0;34m\u001b[0m\u001b[0;34m\u001b[0m\u001b[0m\n\u001b[1;32m    701\u001b[0m             \u001b[0;31m# Encoding\u001b[0m\u001b[0;34m\u001b[0m\u001b[0;34m\u001b[0m\u001b[0;34m\u001b[0m\u001b[0m\n\u001b[0;32m--> 702\u001b[0;31m             handle = open(\n\u001b[0m\u001b[1;32m    703\u001b[0m                 \u001b[0mhandle\u001b[0m\u001b[0;34m,\u001b[0m\u001b[0;34m\u001b[0m\u001b[0;34m\u001b[0m\u001b[0m\n\u001b[1;32m    704\u001b[0m                 \u001b[0mioargs\u001b[0m\u001b[0;34m.\u001b[0m\u001b[0mmode\u001b[0m\u001b[0;34m,\u001b[0m\u001b[0;34m\u001b[0m\u001b[0;34m\u001b[0m\u001b[0m\n",
            "\u001b[0;31mFileNotFoundError\u001b[0m: [Errno 2] No such file or directory: 'bartDataset20112022.csv'"
          ]
        }
      ],
      "source": [
        "# Processing Taras's 2021-2022 Data\n",
        "bart = pd.read_csv(\"bartDataset20112022.csv\")\n",
        "bart.rename(columns={'Unnamed: 0': 'datetime'}, inplace=True)\n",
        "bart[\"datetime\"] = pd.to_datetime(bart[\"datetime\"], infer_datetime_format = True)"
      ]
    },
    {
      "cell_type": "code",
      "execution_count": null,
      "metadata": {
        "id": "0ILPQJ8yznvW"
      },
      "outputs": [],
      "source": [
        "bart['Date'] = bart['datetime'].dt.date\n",
        "bart['sfGiants'] = bart['Date'].isin(df_sf['Date']).astype(int)\n",
        "bart['oakAs'] = bart['Date'].isin(df_oa['Date']).astype(int)\n",
        "\n",
        "bart['lastHour'] = bart['transbayRides'].shift(1)\n",
        "bart['yesterday'] = bart['transbayRides'].shift(24)\n",
        "bart.head()"
      ]
    },
    {
      "cell_type": "code",
      "execution_count": null,
      "metadata": {
        "id": "GAfw4FO1-vaI"
      },
      "outputs": [],
      "source": [
        "bart.drop(columns = ['Date'], inplace = True)\n",
        "bart.head()"
      ]
    },
    {
      "cell_type": "code",
      "execution_count": null,
      "metadata": {
        "id": "5OyPTUa00Pvo"
      },
      "outputs": [],
      "source": [
        "bart.to_csv('bartDataset20112022.csv')\n",
        "files.download('bartDataset20112022.csv')"
      ]
    },
    {
      "cell_type": "markdown",
      "metadata": {
        "id": "FmN_82Ifdgli"
      },
      "source": [
        "## Part III: Importing Preprocessed Data"
      ]
    },
    {
      "cell_type": "code",
      "execution_count": 5,
      "metadata": {
        "id": "_GCVJ1iKeB58"
      },
      "outputs": [],
      "source": [
        "bart = pd.read_csv(\"bartDataset20112022.csv\")\n",
        "bart.drop(columns=[\"Unnamed: 0\"], inplace=True)\n",
        "bart[\"datetime\"] = pd.to_datetime(bart[\"datetime\"], infer_datetime_format = True)"
      ]
    },
    {
      "cell_type": "code",
      "execution_count": 6,
      "metadata": {
        "id": "11TynOu44-z8",
        "colab": {
          "base_uri": "https://localhost:8080/",
          "height": 337
        },
        "outputId": "b3a9a405-1280-44c3-987f-4fc0a9acd56e"
      },
      "outputs": [
        {
          "output_type": "execute_result",
          "data": {
            "text/plain": [
              "                  datetime  transbayRides  systemRides  transbayUtil  \\\n",
              "104443 2022-11-30 19:00:00         4043.0       6912.0      0.584925   \n",
              "104444 2022-11-30 20:00:00         2184.0       3933.0      0.555301   \n",
              "104445 2022-11-30 21:00:00         1278.0       2513.0      0.508556   \n",
              "104446 2022-11-30 22:00:00         1368.0       2555.0      0.535421   \n",
              "104447 2022-11-30 23:00:00         1050.0       1848.0      0.568182   \n",
              "\n",
              "        travelTime  dayOfWeek  sfoAirTemp  sfoPrecip  oakAirTemp  oakPrecip  \\\n",
              "104443   18.462500  Wednesday        11.1        0.0        11.1        0.0   \n",
              "104444   15.990000  Wednesday        11.1        0.0        10.6        0.0   \n",
              "104445   15.918333  Wednesday        11.1        0.0        10.6        0.0   \n",
              "104446   15.985000  Wednesday        11.1        0.0        10.6        0.0   \n",
              "104447   16.170833  Wednesday        11.1        0.0         8.9        0.0   \n",
              "\n",
              "        spareAirDay  yesterday  lastHour  sfGiants  oakAs  \n",
              "104443          0.0   0.585805  0.588341         0      0  \n",
              "104444          0.0   0.554697  0.584925         0      0  \n",
              "104445          0.0   0.512934  0.555301         0      0  \n",
              "104446          0.0   0.520000  0.508556         0      0  \n",
              "104447          0.0   0.571894  0.535421         0      0  "
            ],
            "text/html": [
              "\n",
              "  <div id=\"df-da292e3f-fd00-44e7-91a4-b777e9ba037a\">\n",
              "    <div class=\"colab-df-container\">\n",
              "      <div>\n",
              "<style scoped>\n",
              "    .dataframe tbody tr th:only-of-type {\n",
              "        vertical-align: middle;\n",
              "    }\n",
              "\n",
              "    .dataframe tbody tr th {\n",
              "        vertical-align: top;\n",
              "    }\n",
              "\n",
              "    .dataframe thead th {\n",
              "        text-align: right;\n",
              "    }\n",
              "</style>\n",
              "<table border=\"1\" class=\"dataframe\">\n",
              "  <thead>\n",
              "    <tr style=\"text-align: right;\">\n",
              "      <th></th>\n",
              "      <th>datetime</th>\n",
              "      <th>transbayRides</th>\n",
              "      <th>systemRides</th>\n",
              "      <th>transbayUtil</th>\n",
              "      <th>travelTime</th>\n",
              "      <th>dayOfWeek</th>\n",
              "      <th>sfoAirTemp</th>\n",
              "      <th>sfoPrecip</th>\n",
              "      <th>oakAirTemp</th>\n",
              "      <th>oakPrecip</th>\n",
              "      <th>spareAirDay</th>\n",
              "      <th>yesterday</th>\n",
              "      <th>lastHour</th>\n",
              "      <th>sfGiants</th>\n",
              "      <th>oakAs</th>\n",
              "    </tr>\n",
              "  </thead>\n",
              "  <tbody>\n",
              "    <tr>\n",
              "      <th>104443</th>\n",
              "      <td>2022-11-30 19:00:00</td>\n",
              "      <td>4043.0</td>\n",
              "      <td>6912.0</td>\n",
              "      <td>0.584925</td>\n",
              "      <td>18.462500</td>\n",
              "      <td>Wednesday</td>\n",
              "      <td>11.1</td>\n",
              "      <td>0.0</td>\n",
              "      <td>11.1</td>\n",
              "      <td>0.0</td>\n",
              "      <td>0.0</td>\n",
              "      <td>0.585805</td>\n",
              "      <td>0.588341</td>\n",
              "      <td>0</td>\n",
              "      <td>0</td>\n",
              "    </tr>\n",
              "    <tr>\n",
              "      <th>104444</th>\n",
              "      <td>2022-11-30 20:00:00</td>\n",
              "      <td>2184.0</td>\n",
              "      <td>3933.0</td>\n",
              "      <td>0.555301</td>\n",
              "      <td>15.990000</td>\n",
              "      <td>Wednesday</td>\n",
              "      <td>11.1</td>\n",
              "      <td>0.0</td>\n",
              "      <td>10.6</td>\n",
              "      <td>0.0</td>\n",
              "      <td>0.0</td>\n",
              "      <td>0.554697</td>\n",
              "      <td>0.584925</td>\n",
              "      <td>0</td>\n",
              "      <td>0</td>\n",
              "    </tr>\n",
              "    <tr>\n",
              "      <th>104445</th>\n",
              "      <td>2022-11-30 21:00:00</td>\n",
              "      <td>1278.0</td>\n",
              "      <td>2513.0</td>\n",
              "      <td>0.508556</td>\n",
              "      <td>15.918333</td>\n",
              "      <td>Wednesday</td>\n",
              "      <td>11.1</td>\n",
              "      <td>0.0</td>\n",
              "      <td>10.6</td>\n",
              "      <td>0.0</td>\n",
              "      <td>0.0</td>\n",
              "      <td>0.512934</td>\n",
              "      <td>0.555301</td>\n",
              "      <td>0</td>\n",
              "      <td>0</td>\n",
              "    </tr>\n",
              "    <tr>\n",
              "      <th>104446</th>\n",
              "      <td>2022-11-30 22:00:00</td>\n",
              "      <td>1368.0</td>\n",
              "      <td>2555.0</td>\n",
              "      <td>0.535421</td>\n",
              "      <td>15.985000</td>\n",
              "      <td>Wednesday</td>\n",
              "      <td>11.1</td>\n",
              "      <td>0.0</td>\n",
              "      <td>10.6</td>\n",
              "      <td>0.0</td>\n",
              "      <td>0.0</td>\n",
              "      <td>0.520000</td>\n",
              "      <td>0.508556</td>\n",
              "      <td>0</td>\n",
              "      <td>0</td>\n",
              "    </tr>\n",
              "    <tr>\n",
              "      <th>104447</th>\n",
              "      <td>2022-11-30 23:00:00</td>\n",
              "      <td>1050.0</td>\n",
              "      <td>1848.0</td>\n",
              "      <td>0.568182</td>\n",
              "      <td>16.170833</td>\n",
              "      <td>Wednesday</td>\n",
              "      <td>11.1</td>\n",
              "      <td>0.0</td>\n",
              "      <td>8.9</td>\n",
              "      <td>0.0</td>\n",
              "      <td>0.0</td>\n",
              "      <td>0.571894</td>\n",
              "      <td>0.535421</td>\n",
              "      <td>0</td>\n",
              "      <td>0</td>\n",
              "    </tr>\n",
              "  </tbody>\n",
              "</table>\n",
              "</div>\n",
              "      <button class=\"colab-df-convert\" onclick=\"convertToInteractive('df-da292e3f-fd00-44e7-91a4-b777e9ba037a')\"\n",
              "              title=\"Convert this dataframe to an interactive table.\"\n",
              "              style=\"display:none;\">\n",
              "        \n",
              "  <svg xmlns=\"http://www.w3.org/2000/svg\" height=\"24px\"viewBox=\"0 0 24 24\"\n",
              "       width=\"24px\">\n",
              "    <path d=\"M0 0h24v24H0V0z\" fill=\"none\"/>\n",
              "    <path d=\"M18.56 5.44l.94 2.06.94-2.06 2.06-.94-2.06-.94-.94-2.06-.94 2.06-2.06.94zm-11 1L8.5 8.5l.94-2.06 2.06-.94-2.06-.94L8.5 2.5l-.94 2.06-2.06.94zm10 10l.94 2.06.94-2.06 2.06-.94-2.06-.94-.94-2.06-.94 2.06-2.06.94z\"/><path d=\"M17.41 7.96l-1.37-1.37c-.4-.4-.92-.59-1.43-.59-.52 0-1.04.2-1.43.59L10.3 9.45l-7.72 7.72c-.78.78-.78 2.05 0 2.83L4 21.41c.39.39.9.59 1.41.59.51 0 1.02-.2 1.41-.59l7.78-7.78 2.81-2.81c.8-.78.8-2.07 0-2.86zM5.41 20L4 18.59l7.72-7.72 1.47 1.35L5.41 20z\"/>\n",
              "  </svg>\n",
              "      </button>\n",
              "      \n",
              "  <style>\n",
              "    .colab-df-container {\n",
              "      display:flex;\n",
              "      flex-wrap:wrap;\n",
              "      gap: 12px;\n",
              "    }\n",
              "\n",
              "    .colab-df-convert {\n",
              "      background-color: #E8F0FE;\n",
              "      border: none;\n",
              "      border-radius: 50%;\n",
              "      cursor: pointer;\n",
              "      display: none;\n",
              "      fill: #1967D2;\n",
              "      height: 32px;\n",
              "      padding: 0 0 0 0;\n",
              "      width: 32px;\n",
              "    }\n",
              "\n",
              "    .colab-df-convert:hover {\n",
              "      background-color: #E2EBFA;\n",
              "      box-shadow: 0px 1px 2px rgba(60, 64, 67, 0.3), 0px 1px 3px 1px rgba(60, 64, 67, 0.15);\n",
              "      fill: #174EA6;\n",
              "    }\n",
              "\n",
              "    [theme=dark] .colab-df-convert {\n",
              "      background-color: #3B4455;\n",
              "      fill: #D2E3FC;\n",
              "    }\n",
              "\n",
              "    [theme=dark] .colab-df-convert:hover {\n",
              "      background-color: #434B5C;\n",
              "      box-shadow: 0px 1px 3px 1px rgba(0, 0, 0, 0.15);\n",
              "      filter: drop-shadow(0px 1px 2px rgba(0, 0, 0, 0.3));\n",
              "      fill: #FFFFFF;\n",
              "    }\n",
              "  </style>\n",
              "\n",
              "      <script>\n",
              "        const buttonEl =\n",
              "          document.querySelector('#df-da292e3f-fd00-44e7-91a4-b777e9ba037a button.colab-df-convert');\n",
              "        buttonEl.style.display =\n",
              "          google.colab.kernel.accessAllowed ? 'block' : 'none';\n",
              "\n",
              "        async function convertToInteractive(key) {\n",
              "          const element = document.querySelector('#df-da292e3f-fd00-44e7-91a4-b777e9ba037a');\n",
              "          const dataTable =\n",
              "            await google.colab.kernel.invokeFunction('convertToInteractive',\n",
              "                                                     [key], {});\n",
              "          if (!dataTable) return;\n",
              "\n",
              "          const docLinkHtml = 'Like what you see? Visit the ' +\n",
              "            '<a target=\"_blank\" href=https://colab.research.google.com/notebooks/data_table.ipynb>data table notebook</a>'\n",
              "            + ' to learn more about interactive tables.';\n",
              "          element.innerHTML = '';\n",
              "          dataTable['output_type'] = 'display_data';\n",
              "          await google.colab.output.renderOutput(dataTable, element);\n",
              "          const docLink = document.createElement('div');\n",
              "          docLink.innerHTML = docLinkHtml;\n",
              "          element.appendChild(docLink);\n",
              "        }\n",
              "      </script>\n",
              "    </div>\n",
              "  </div>\n",
              "  "
            ]
          },
          "metadata": {},
          "execution_count": 6
        }
      ],
      "source": [
        "# combine date and hour into datetime \n",
        "# bart.insert(0, 'datetime', pd.to_datetime(bart_hourly[\"date\"]) + bart_hourly[\"hour\"].astype('timedelta64[h]'))\n",
        "bart.tail()"
      ]
    },
    {
      "cell_type": "code",
      "execution_count": 7,
      "metadata": {
        "id": "J4VG2zrg8TO4"
      },
      "outputs": [],
      "source": [
        "bart_train = bart[bart['datetime'].dt.year <= 2020]\n",
        "bart_test = bart[bart['datetime'].dt.year > 2020]"
      ]
    },
    {
      "cell_type": "markdown",
      "metadata": {
        "id": "Q_AumhV0270z"
      },
      "source": [
        "## Part IV: Data Inspection"
      ]
    },
    {
      "cell_type": "code",
      "execution_count": 8,
      "metadata": {
        "id": "a2vcZ56M3A1Q"
      },
      "outputs": [],
      "source": [
        "def plot_entire_series(x, y, **kwargs):\n",
        "    \n",
        "    plt.figure(figsize=(16, 4))\n",
        "    plt.plot(x, y, linewidth=2, color='black')\n",
        "    \n",
        "    for key, value in kwargs.items():\n",
        "        plt.plot(x, value, linewidth=2, color=key)\n",
        "        \n",
        "    plt.xlabel('Date', fontsize=16)\n",
        "    plt.ylabel('Utilization', fontsize=16)\n",
        "    plt.show()\n",
        "    \n",
        "    return None\n",
        "\n",
        "def plot_last_fifty(x, y, **kwargs):\n",
        "    \n",
        "    plt.figure(figsize=(16, 4))\n",
        "    plt.scatter(x[-50:], y[-50:], linewidth=3, color='black')\n",
        "    plt.plot(x[-50:], y[-50:], linewidth=3, color='black')\n",
        "    \n",
        "    for key, value in kwargs.items():\n",
        "        plt.plot(x[-50:], value[-50:], linewidth=3, color=key)\n",
        "        \n",
        "    plt.xlabel('Date', fontsize=16)\n",
        "    plt.ylabel('Util', fontsize=16)\n",
        "    plt.show()\n",
        "    \n",
        "    return None\n",
        "\n",
        "def plot_last_five_hundred(x, y, **kwargs):\n",
        "    \n",
        "    plt.figure(figsize=(16, 4))\n",
        "    plt.scatter(x[-500:], y[-500:], linewidth=3, color='black')\n",
        "    plt.plot(x[-500:], y[-500:], linewidth=3, color='black')\n",
        "    \n",
        "    for key, value in kwargs.items():\n",
        "        plt.plot(x[-500:], value[-500:], linewidth=3, color=key)\n",
        "        \n",
        "    plt.xlabel('Date', fontsize=16)\n",
        "    plt.xticks(fontsize=12)\n",
        "    plt.ylabel('Util', fontsize=16)\n",
        "    plt.yticks(fontsize=12)\n",
        "    plt.show()\n",
        "    \n",
        "    return None"
      ]
    },
    {
      "cell_type": "code",
      "execution_count": 9,
      "metadata": {
        "colab": {
          "base_uri": "https://localhost:8080/",
          "height": 284
        },
        "id": "zveUJg4Z3Lem",
        "outputId": "a71b17c9-9221-41bd-ea2b-03a179ac5341"
      },
      "outputs": [
        {
          "output_type": "display_data",
          "data": {
            "text/plain": [
              "<Figure size 1152x288 with 1 Axes>"
            ],
            "image/png": "[encoded data removed]"
          },
          "metadata": {
            "needs_background": "light"
          }
        }
      ],
      "source": [
        "x = bart['datetime'].to_numpy()\n",
        "y = bart['transbayUtil'].to_numpy()\n",
        "\n",
        "# Utilization: transbay/total riders\n",
        "plot_entire_series(x, y)"
      ]
    },
    {
      "cell_type": "markdown",
      "metadata": {
        "id": "3g8n5YYP8dus"
      },
      "source": [
        "## Part V: Linear Models"
      ]
    },
    {
      "cell_type": "code",
      "execution_count": null,
      "metadata": {
        "id": "2Oyf8aTw2omX"
      },
      "outputs": [],
      "source": [
        "def OSR2(y_train, y_test, y_pred):\n",
        "    \n",
        "    SSE = np.sum((y_test - y_pred)**2)\n",
        "    SST = np.sum((y_test - np.mean(y_train))**2)          \n",
        "    return (1 - SSE/SST)\n",
        "  \n",
        "def RMSE(y_test, y_pred):\n",
        "    return np.sqrt(np.sum((y_test - y_pred)**2)/len(y_test))\n",
        "\n",
        "def MAE(y_test, y_pred):\n",
        "    return np.sum(np.abs(y_test - y_pred))/len(y_test)\n",
        "\n",
        "def VIF(df, columns):\n",
        "    values = sm.add_constant(df[columns]).values\n",
        "    num_columns = len(columns)+1\n",
        "    vif = [variance_inflation_factor(values, i) for i in range(num_columns)]\n",
        "    return pd.Series(vif[1:], index=columns)"
      ]
    },
    {
      "cell_type": "markdown",
      "metadata": {
        "id": "rnYBIJ-X2evn"
      },
      "source": [
        "### Section A: Linear Trend"
      ]
    },
    {
      "cell_type": "code",
      "execution_count": null,
      "metadata": {
        "id": "2Yj7vhQQ8gq9",
        "colab": {
          "base_uri": "https://localhost:8080/",
          "height": 550
        },
        "outputId": "eb5f9596-b417-46b1-8e14-5bd9c5014413"
      },
      "outputs": [
        {
          "output_type": "stream",
          "name": "stderr",
          "text": [
            "<ipython-input-11-d3325dc56c67>:2: SettingWithCopyWarning: \n",
            "A value is trying to be set on a copy of a slice from a DataFrame.\n",
            "Try using .loc[row_indexer,col_indexer] = value instead\n",
            "\n",
            "See the caveats in the documentation: https://pandas.pydata.org/pandas-docs/stable/user_guide/indexing.html#returning-a-view-versus-a-copy\n",
            "  bart_train['timePeriod'] = time_period\n"
          ]
        },
        {
          "output_type": "execute_result",
          "data": {
            "text/plain": [
              "                 datetime  transbayRides  systemRides  transbayUtil  \\\n",
              "87667 2020-12-31 19:00:00          684.0       1357.0      0.504053   \n",
              "87668 2020-12-31 20:00:00          410.0        866.0      0.473441   \n",
              "87669 2020-12-31 21:00:00          328.0        676.0      0.485207   \n",
              "87670 2020-12-31 22:00:00          115.0        213.0      0.539906   \n",
              "87671 2020-12-31 23:00:00            2.0          8.0      0.250000   \n",
              "\n",
              "       travelTime dayOfWeek  sfoAirTemp  sfoPrecip  oakAirTemp  oakPrecip  \\\n",
              "87667      16.475  Thursday        11.7        0.0        11.7        0.0   \n",
              "87668      16.475  Thursday        11.1        0.0         9.4        0.0   \n",
              "87669      16.475  Thursday        10.0        0.0        10.0        0.0   \n",
              "87670      16.475  Thursday         8.9        0.0         9.4        0.0   \n",
              "87671      16.475  Thursday         8.9        0.0         8.9        0.0   \n",
              "\n",
              "       spareAirDay  yesterday  lastHour  sfGiants  oakAs  timePeriod  \n",
              "87667          0.0   0.517483  0.506167         0      0       87667  \n",
              "87668          0.0   0.493209  0.504053         0      0       87668  \n",
              "87669          0.0   0.502347  0.473441         0      0       87669  \n",
              "87670          0.0   0.518797  0.485207         0      0       87670  \n",
              "87671          0.0   0.500000  0.539906         0      0       87671  "
            ],
            "text/html": [
              "\n",
              "  <div id=\"df-bd8fe165-c4bd-49f9-b5ae-7515090da0f6\">\n",
              "    <div class=\"colab-df-container\">\n",
              "      <div>\n",
              "<style scoped>\n",
              "    .dataframe tbody tr th:only-of-type {\n",
              "        vertical-align: middle;\n",
              "    }\n",
              "\n",
              "    .dataframe tbody tr th {\n",
              "        vertical-align: top;\n",
              "    }\n",
              "\n",
              "    .dataframe thead th {\n",
              "        text-align: right;\n",
              "    }\n",
              "</style>\n",
              "<table border=\"1\" class=\"dataframe\">\n",
              "  <thead>\n",
              "    <tr style=\"text-align: right;\">\n",
              "      <th></th>\n",
              "      <th>datetime</th>\n",
              "      <th>transbayRides</th>\n",
              "      <th>systemRides</th>\n",
              "      <th>transbayUtil</th>\n",
              "      <th>travelTime</th>\n",
              "      <th>dayOfWeek</th>\n",
              "      <th>sfoAirTemp</th>\n",
              "      <th>sfoPrecip</th>\n",
              "      <th>oakAirTemp</th>\n",
              "      <th>oakPrecip</th>\n",
              "      <th>spareAirDay</th>\n",
              "      <th>yesterday</th>\n",
              "      <th>lastHour</th>\n",
              "      <th>sfGiants</th>\n",
              "      <th>oakAs</th>\n",
              "      <th>timePeriod</th>\n",
              "    </tr>\n",
              "  </thead>\n",
              "  <tbody>\n",
              "    <tr>\n",
              "      <th>87667</th>\n",
              "      <td>2020-12-31 19:00:00</td>\n",
              "      <td>684.0</td>\n",
              "      <td>1357.0</td>\n",
              "      <td>0.504053</td>\n",
              "      <td>16.475</td>\n",
              "      <td>Thursday</td>\n",
              "      <td>11.7</td>\n",
              "      <td>0.0</td>\n",
              "      <td>11.7</td>\n",
              "      <td>0.0</td>\n",
              "      <td>0.0</td>\n",
              "      <td>0.517483</td>\n",
              "      <td>0.506167</td>\n",
              "      <td>0</td>\n",
              "      <td>0</td>\n",
              "      <td>87667</td>\n",
              "    </tr>\n",
              "    <tr>\n",
              "      <th>87668</th>\n",
              "      <td>2020-12-31 20:00:00</td>\n",
              "      <td>410.0</td>\n",
              "      <td>866.0</td>\n",
              "      <td>0.473441</td>\n",
              "      <td>16.475</td>\n",
              "      <td>Thursday</td>\n",
              "      <td>11.1</td>\n",
              "      <td>0.0</td>\n",
              "      <td>9.4</td>\n",
              "      <td>0.0</td>\n",
              "      <td>0.0</td>\n",
              "      <td>0.493209</td>\n",
              "      <td>0.504053</td>\n",
              "      <td>0</td>\n",
              "      <td>0</td>\n",
              "      <td>87668</td>\n",
              "    </tr>\n",
              "    <tr>\n",
              "      <th>87669</th>\n",
              "      <td>2020-12-31 21:00:00</td>\n",
              "      <td>328.0</td>\n",
              "      <td>676.0</td>\n",
              "      <td>0.485207</td>\n",
              "      <td>16.475</td>\n",
              "      <td>Thursday</td>\n",
              "      <td>10.0</td>\n",
              "      <td>0.0</td>\n",
              "      <td>10.0</td>\n",
              "      <td>0.0</td>\n",
              "      <td>0.0</td>\n",
              "      <td>0.502347</td>\n",
              "      <td>0.473441</td>\n",
              "      <td>0</td>\n",
              "      <td>0</td>\n",
              "      <td>87669</td>\n",
              "    </tr>\n",
              "    <tr>\n",
              "      <th>87670</th>\n",
              "      <td>2020-12-31 22:00:00</td>\n",
              "      <td>115.0</td>\n",
              "      <td>213.0</td>\n",
              "      <td>0.539906</td>\n",
              "      <td>16.475</td>\n",
              "      <td>Thursday</td>\n",
              "      <td>8.9</td>\n",
              "      <td>0.0</td>\n",
              "      <td>9.4</td>\n",
              "      <td>0.0</td>\n",
              "      <td>0.0</td>\n",
              "      <td>0.518797</td>\n",
              "      <td>0.485207</td>\n",
              "      <td>0</td>\n",
              "      <td>0</td>\n",
              "      <td>87670</td>\n",
              "    </tr>\n",
              "    <tr>\n",
              "      <th>87671</th>\n",
              "      <td>2020-12-31 23:00:00</td>\n",
              "      <td>2.0</td>\n",
              "      <td>8.0</td>\n",
              "      <td>0.250000</td>\n",
              "      <td>16.475</td>\n",
              "      <td>Thursday</td>\n",
              "      <td>8.9</td>\n",
              "      <td>0.0</td>\n",
              "      <td>8.9</td>\n",
              "      <td>0.0</td>\n",
              "      <td>0.0</td>\n",
              "      <td>0.500000</td>\n",
              "      <td>0.539906</td>\n",
              "      <td>0</td>\n",
              "      <td>0</td>\n",
              "      <td>87671</td>\n",
              "    </tr>\n",
              "  </tbody>\n",
              "</table>\n",
              "</div>\n",
              "      <button class=\"colab-df-convert\" onclick=\"convertToInteractive('df-bd8fe165-c4bd-49f9-b5ae-7515090da0f6')\"\n",
              "              title=\"Convert this dataframe to an interactive table.\"\n",
              "              style=\"display:none;\">\n",
              "        \n",
              "  <svg xmlns=\"http://www.w3.org/2000/svg\" height=\"24px\"viewBox=\"0 0 24 24\"\n",
              "       width=\"24px\">\n",
              "    <path d=\"M0 0h24v24H0V0z\" fill=\"none\"/>\n",
              "    <path d=\"M18.56 5.44l.94 2.06.94-2.06 2.06-.94-2.06-.94-.94-2.06-.94 2.06-2.06.94zm-11 1L8.5 8.5l.94-2.06 2.06-.94-2.06-.94L8.5 2.5l-.94 2.06-2.06.94zm10 10l.94 2.06.94-2.06 2.06-.94-2.06-.94-.94-2.06-.94 2.06-2.06.94z\"/><path d=\"M17.41 7.96l-1.37-1.37c-.4-.4-.92-.59-1.43-.59-.52 0-1.04.2-1.43.59L10.3 9.45l-7.72 7.72c-.78.78-.78 2.05 0 2.83L4 21.41c.39.39.9.59 1.41.59.51 0 1.02-.2 1.41-.59l7.78-7.78 2.81-2.81c.8-.78.8-2.07 0-2.86zM5.41 20L4 18.59l7.72-7.72 1.47 1.35L5.41 20z\"/>\n",
              "  </svg>\n",
              "      </button>\n",
              "      \n",
              "  <style>\n",
              "    .colab-df-container {\n",
              "      display:flex;\n",
              "      flex-wrap:wrap;\n",
              "      gap: 12px;\n",
              "    }\n",
              "\n",
              "    .colab-df-convert {\n",
              "      background-color: #E8F0FE;\n",
              "      border: none;\n",
              "      border-radius: 50%;\n",
              "      cursor: pointer;\n",
              "      display: none;\n",
              "      fill: #1967D2;\n",
              "      height: 32px;\n",
              "      padding: 0 0 0 0;\n",
              "      width: 32px;\n",
              "    }\n",
              "\n",
              "    .colab-df-convert:hover {\n",
              "      background-color: #E2EBFA;\n",
              "      box-shadow: 0px 1px 2px rgba(60, 64, 67, 0.3), 0px 1px 3px 1px rgba(60, 64, 67, 0.15);\n",
              "      fill: #174EA6;\n",
              "    }\n",
              "\n",
              "    [theme=dark] .colab-df-convert {\n",
              "      background-color: #3B4455;\n",
              "      fill: #D2E3FC;\n",
              "    }\n",
              "\n",
              "    [theme=dark] .colab-df-convert:hover {\n",
              "      background-color: #434B5C;\n",
              "      box-shadow: 0px 1px 3px 1px rgba(0, 0, 0, 0.15);\n",
              "      filter: drop-shadow(0px 1px 2px rgba(0, 0, 0, 0.3));\n",
              "      fill: #FFFFFF;\n",
              "    }\n",
              "  </style>\n",
              "\n",
              "      <script>\n",
              "        const buttonEl =\n",
              "          document.querySelector('#df-bd8fe165-c4bd-49f9-b5ae-7515090da0f6 button.colab-df-convert');\n",
              "        buttonEl.style.display =\n",
              "          google.colab.kernel.accessAllowed ? 'block' : 'none';\n",
              "\n",
              "        async function convertToInteractive(key) {\n",
              "          const element = document.querySelector('#df-bd8fe165-c4bd-49f9-b5ae-7515090da0f6');\n",
              "          const dataTable =\n",
              "            await google.colab.kernel.invokeFunction('convertToInteractive',\n",
              "                                                     [key], {});\n",
              "          if (!dataTable) return;\n",
              "\n",
              "          const docLinkHtml = 'Like what you see? Visit the ' +\n",
              "            '<a target=\"_blank\" href=https://colab.research.google.com/notebooks/data_table.ipynb>data table notebook</a>'\n",
              "            + ' to learn more about interactive tables.';\n",
              "          element.innerHTML = '';\n",
              "          dataTable['output_type'] = 'display_data';\n",
              "          await google.colab.output.renderOutput(dataTable, element);\n",
              "          const docLink = document.createElement('div');\n",
              "          docLink.innerHTML = docLinkHtml;\n",
              "          element.appendChild(docLink);\n",
              "        }\n",
              "      </script>\n",
              "    </div>\n",
              "  </div>\n",
              "  "
            ]
          },
          "metadata": {},
          "execution_count": 11
        }
      ],
      "source": [
        "time_period = list(range(len(bart_train)))\n",
        "bart_train['timePeriod'] = time_period\n",
        "bart_train.tail()"
      ]
    },
    {
      "cell_type": "code",
      "execution_count": null,
      "metadata": {
        "id": "qdw6DHrt2sEK",
        "colab": {
          "base_uri": "https://localhost:8080/"
        },
        "outputId": "b034a96e-b2e8-4061-8f9a-cf1106086295"
      },
      "outputs": [
        {
          "output_type": "stream",
          "name": "stdout",
          "text": [
            "                            OLS Regression Results                            \n",
            "==============================================================================\n",
            "Dep. Variable:           transbayUtil   R-squared:                       0.001\n",
            "Model:                            OLS   Adj. R-squared:                  0.001\n",
            "Method:                 Least Squares   F-statistic:                     74.81\n",
            "Date:                Fri, 16 Dec 2022   Prob (F-statistic):           5.28e-18\n",
            "Time:                        18:06:56   Log-Likelihood:                 25822.\n",
            "No. Observations:               87672   AIC:                        -5.164e+04\n",
            "Df Residuals:                   87670   BIC:                        -5.162e+04\n",
            "Df Model:                           1                                         \n",
            "Covariance Type:            nonrobust                                         \n",
            "==============================================================================\n",
            "                 coef    std err          t      P>|t|      [0.025      0.975]\n",
            "------------------------------------------------------------------------------\n",
            "Intercept      0.4400      0.001    361.429      0.000       0.438       0.442\n",
            "timePeriod   2.08e-07   2.41e-08      8.649      0.000    1.61e-07    2.55e-07\n",
            "==============================================================================\n",
            "Omnibus:                    22938.117   Durbin-Watson:                   0.927\n",
            "Prob(Omnibus):                  0.000   Jarque-Bera (JB):            49814.705\n",
            "Skew:                          -1.533   Prob(JB):                         0.00\n",
            "Kurtosis:                       5.060   Cond. No.                     1.01e+05\n",
            "==============================================================================\n",
            "\n",
            "Notes:\n",
            "[1] Standard Errors assume that the covariance matrix of the errors is correctly specified.\n",
            "[2] The condition number is large, 1.01e+05. This might indicate that there are\n",
            "strong multicollinearity or other numerical problems.\n",
            "Training RMSE: 0.18\n",
            "Training MAE: 0.121\n"
          ]
        }
      ],
      "source": [
        "lm = smf.ols(formula='transbayUtil ~ timePeriod', data=bart_train).fit()\n",
        "print(lm.summary())\n",
        "print('Training RMSE:', round(RMSE(bart_train['transbayUtil'], lm.predict(bart_train)), 3))\n",
        "print('Training MAE:', round(MAE(bart_train['transbayUtil'], lm.predict(bart_train)), 3))"
      ]
    },
    {
      "cell_type": "code",
      "execution_count": null,
      "metadata": {
        "id": "tq_JteEO2y3n",
        "colab": {
          "base_uri": "https://localhost:8080/",
          "height": 284
        },
        "outputId": "7e2c14ad-361d-492f-ecab-b8874e2529cb"
      },
      "outputs": [
        {
          "output_type": "display_data",
          "data": {
            "text/plain": [
              "<Figure size 1152x288 with 1 Axes>"
            ],
            "image/png": "[encoded data removed]"
          },
          "metadata": {
            "needs_background": "light"
          }
        }
      ],
      "source": [
        "x = bart_train['datetime'].to_numpy()\n",
        "y = bart_train['transbayUtil'].to_numpy()\n",
        "y_pred = lm.predict(bart_train).to_numpy()\n",
        "\n",
        "plot_entire_series(x, y, red=y_pred)"
      ]
    },
    {
      "cell_type": "code",
      "execution_count": null,
      "metadata": {
        "id": "WUfdn69v5aM-",
        "colab": {
          "base_uri": "https://localhost:8080/"
        },
        "outputId": "c7cf56b9-c428-46b8-f3cd-e8b7dc1924b1"
      },
      "outputs": [
        {
          "output_type": "stream",
          "name": "stderr",
          "text": [
            "/usr/local/lib/python3.8/dist-packages/pandas/core/frame.py:4906: SettingWithCopyWarning: \n",
            "A value is trying to be set on a copy of a slice from a DataFrame\n",
            "\n",
            "See the caveats in the documentation: https://pandas.pydata.org/pandas-docs/stable/user_guide/indexing.html#returning-a-view-versus-a-copy\n",
            "  return super().drop(\n"
          ]
        }
      ],
      "source": [
        "bart_train.drop(columns = ['timePeriod'], inplace = True)"
      ]
    },
    {
      "cell_type": "markdown",
      "metadata": {
        "id": "opRtaXX33lJS"
      },
      "source": [
        "### Section B: Auto-Regressive Models"
      ]
    },
    {
      "cell_type": "code",
      "execution_count": null,
      "metadata": {
        "colab": {
          "base_uri": "https://localhost:8080/"
        },
        "id": "NLS7wcnf3ejQ",
        "outputId": "77340974-23bc-460e-c215-1aa1f689e7cb"
      },
      "outputs": [
        {
          "output_type": "stream",
          "name": "stdout",
          "text": [
            "                            OLS Regression Results                            \n",
            "==============================================================================\n",
            "Dep. Variable:           transbayUtil   R-squared:                       0.424\n",
            "Model:                            OLS   Adj. R-squared:                  0.424\n",
            "Method:                 Least Squares   F-statistic:                 6.445e+04\n",
            "Date:                Fri, 16 Dec 2022   Prob (F-statistic):               0.00\n",
            "Time:                        18:06:57   Log-Likelihood:                 49935.\n",
            "No. Observations:               87648   AIC:                        -9.987e+04\n",
            "Df Residuals:                   87646   BIC:                        -9.985e+04\n",
            "Df Model:                           1                                         \n",
            "Covariance Type:            nonrobust                                         \n",
            "==============================================================================\n",
            "                 coef    std err          t      P>|t|      [0.025      0.975]\n",
            "------------------------------------------------------------------------------\n",
            "Intercept      0.1567      0.001    126.296      0.000       0.154       0.159\n",
            "yesterday      0.6510      0.003    253.866      0.000       0.646       0.656\n",
            "==============================================================================\n",
            "Omnibus:                    17913.557   Durbin-Watson:                   1.303\n",
            "Prob(Omnibus):                  0.000   Jarque-Bera (JB):           463282.890\n",
            "Skew:                          -0.350   Prob(JB):                         0.00\n",
            "Kurtosis:                      14.241   Cond. No.                         6.70\n",
            "==============================================================================\n",
            "\n",
            "Notes:\n",
            "[1] Standard Errors assume that the covariance matrix of the errors is correctly specified.\n"
          ]
        }
      ],
      "source": [
        "ar1 = smf.ols(formula='transbayUtil ~ yesterday', data=bart_train).fit()\n",
        "print(ar1.summary())"
      ]
    },
    {
      "cell_type": "code",
      "execution_count": null,
      "metadata": {
        "colab": {
          "base_uri": "https://localhost:8080/",
          "height": 287
        },
        "id": "LrQ6wo944rG8",
        "outputId": "8cc6d849-786c-4d91-967e-36687fab3322"
      },
      "outputs": [
        {
          "output_type": "display_data",
          "data": {
            "text/plain": [
              "<Figure size 1152x288 with 1 Axes>"
            ],
            "image/png": "[encoded data removed]"
          },
          "metadata": {
            "needs_background": "light"
          }
        }
      ],
      "source": [
        "y_pred = ar1.predict(bart_train).to_numpy()\n",
        "plot_last_five_hundred(x, y, red=y_pred)"
      ]
    },
    {
      "cell_type": "code",
      "execution_count": null,
      "metadata": {
        "colab": {
          "base_uri": "https://localhost:8080/",
          "height": 250
        },
        "id": "zgOsZvByErmg",
        "outputId": "80d42b14-ea94-4869-8866-e7b48fd609b3"
      },
      "outputs": [
        {
          "output_type": "execute_result",
          "data": {
            "text/plain": [
              "             datetime  transbayRides  systemRides  transbayUtil  travelTime  \\\n",
              "0 2011-01-01 00:00:00         2473.0       5175.0      0.477874   15.669167   \n",
              "1 2011-01-01 01:00:00         9884.0      15479.0      0.638543   16.778333   \n",
              "2 2011-01-01 02:00:00         7050.0      11055.0      0.637720   16.237500   \n",
              "3 2011-01-01 03:00:00         4135.0       5592.0      0.739449   15.604167   \n",
              "4 2011-01-01 04:00:00          686.0        795.0      0.862893   15.732500   \n",
              "\n",
              "  dayOfWeek  sfoAirTemp  sfoPrecip  oakAirTemp  oakPrecip  spareAirDay  \\\n",
              "0  Saturday         8.9        0.0         8.9       -0.1          0.0   \n",
              "1  Saturday         8.9        0.3         8.9        0.3          0.0   \n",
              "2  Saturday         8.3        0.5         8.9        0.3          0.0   \n",
              "3  Saturday         8.9       -0.1         8.9        0.3          0.0   \n",
              "4  Saturday         8.9       -0.1         9.4       -0.1          0.0   \n",
              "\n",
              "   yesterday  lastHour  sfGiants  oakAs  \n",
              "0        NaN       NaN         0      0  \n",
              "1        NaN  0.477874         0      0  \n",
              "2        NaN  0.638543         0      0  \n",
              "3        NaN  0.637720         0      0  \n",
              "4        NaN  0.739449         0      0  "
            ],
            "text/html": [
              "\n",
              "  <div id=\"df-11042873-8041-498a-b54f-2aa949d7a6bb\">\n",
              "    <div class=\"colab-df-container\">\n",
              "      <div>\n",
              "<style scoped>\n",
              "    .dataframe tbody tr th:only-of-type {\n",
              "        vertical-align: middle;\n",
              "    }\n",
              "\n",
              "    .dataframe tbody tr th {\n",
              "        vertical-align: top;\n",
              "    }\n",
              "\n",
              "    .dataframe thead th {\n",
              "        text-align: right;\n",
              "    }\n",
              "</style>\n",
              "<table border=\"1\" class=\"dataframe\">\n",
              "  <thead>\n",
              "    <tr style=\"text-align: right;\">\n",
              "      <th></th>\n",
              "      <th>datetime</th>\n",
              "      <th>transbayRides</th>\n",
              "      <th>systemRides</th>\n",
              "      <th>transbayUtil</th>\n",
              "      <th>travelTime</th>\n",
              "      <th>dayOfWeek</th>\n",
              "      <th>sfoAirTemp</th>\n",
              "      <th>sfoPrecip</th>\n",
              "      <th>oakAirTemp</th>\n",
              "      <th>oakPrecip</th>\n",
              "      <th>spareAirDay</th>\n",
              "      <th>yesterday</th>\n",
              "      <th>lastHour</th>\n",
              "      <th>sfGiants</th>\n",
              "      <th>oakAs</th>\n",
              "    </tr>\n",
              "  </thead>\n",
              "  <tbody>\n",
              "    <tr>\n",
              "      <th>0</th>\n",
              "      <td>2011-01-01 00:00:00</td>\n",
              "      <td>2473.0</td>\n",
              "      <td>5175.0</td>\n",
              "      <td>0.477874</td>\n",
              "      <td>15.669167</td>\n",
              "      <td>Saturday</td>\n",
              "      <td>8.9</td>\n",
              "      <td>0.0</td>\n",
              "      <td>8.9</td>\n",
              "      <td>-0.1</td>\n",
              "      <td>0.0</td>\n",
              "      <td>NaN</td>\n",
              "      <td>NaN</td>\n",
              "      <td>0</td>\n",
              "      <td>0</td>\n",
              "    </tr>\n",
              "    <tr>\n",
              "      <th>1</th>\n",
              "      <td>2011-01-01 01:00:00</td>\n",
              "      <td>9884.0</td>\n",
              "      <td>15479.0</td>\n",
              "      <td>0.638543</td>\n",
              "      <td>16.778333</td>\n",
              "      <td>Saturday</td>\n",
              "      <td>8.9</td>\n",
              "      <td>0.3</td>\n",
              "      <td>8.9</td>\n",
              "      <td>0.3</td>\n",
              "      <td>0.0</td>\n",
              "      <td>NaN</td>\n",
              "      <td>0.477874</td>\n",
              "      <td>0</td>\n",
              "      <td>0</td>\n",
              "    </tr>\n",
              "    <tr>\n",
              "      <th>2</th>\n",
              "      <td>2011-01-01 02:00:00</td>\n",
              "      <td>7050.0</td>\n",
              "      <td>11055.0</td>\n",
              "      <td>0.637720</td>\n",
              "      <td>16.237500</td>\n",
              "      <td>Saturday</td>\n",
              "      <td>8.3</td>\n",
              "      <td>0.5</td>\n",
              "      <td>8.9</td>\n",
              "      <td>0.3</td>\n",
              "      <td>0.0</td>\n",
              "      <td>NaN</td>\n",
              "      <td>0.638543</td>\n",
              "      <td>0</td>\n",
              "      <td>0</td>\n",
              "    </tr>\n",
              "    <tr>\n",
              "      <th>3</th>\n",
              "      <td>2011-01-01 03:00:00</td>\n",
              "      <td>4135.0</td>\n",
              "      <td>5592.0</td>\n",
              "      <td>0.739449</td>\n",
              "      <td>15.604167</td>\n",
              "      <td>Saturday</td>\n",
              "      <td>8.9</td>\n",
              "      <td>-0.1</td>\n",
              "      <td>8.9</td>\n",
              "      <td>0.3</td>\n",
              "      <td>0.0</td>\n",
              "      <td>NaN</td>\n",
              "      <td>0.637720</td>\n",
              "      <td>0</td>\n",
              "      <td>0</td>\n",
              "    </tr>\n",
              "    <tr>\n",
              "      <th>4</th>\n",
              "      <td>2011-01-01 04:00:00</td>\n",
              "      <td>686.0</td>\n",
              "      <td>795.0</td>\n",
              "      <td>0.862893</td>\n",
              "      <td>15.732500</td>\n",
              "      <td>Saturday</td>\n",
              "      <td>8.9</td>\n",
              "      <td>-0.1</td>\n",
              "      <td>9.4</td>\n",
              "      <td>-0.1</td>\n",
              "      <td>0.0</td>\n",
              "      <td>NaN</td>\n",
              "      <td>0.739449</td>\n",
              "      <td>0</td>\n",
              "      <td>0</td>\n",
              "    </tr>\n",
              "  </tbody>\n",
              "</table>\n",
              "</div>\n",
              "      <button class=\"colab-df-convert\" onclick=\"convertToInteractive('df-11042873-8041-498a-b54f-2aa949d7a6bb')\"\n",
              "              title=\"Convert this dataframe to an interactive table.\"\n",
              "              style=\"display:none;\">\n",
              "        \n",
              "  <svg xmlns=\"http://www.w3.org/2000/svg\" height=\"24px\"viewBox=\"0 0 24 24\"\n",
              "       width=\"24px\">\n",
              "    <path d=\"M0 0h24v24H0V0z\" fill=\"none\"/>\n",
              "    <path d=\"M18.56 5.44l.94 2.06.94-2.06 2.06-.94-2.06-.94-.94-2.06-.94 2.06-2.06.94zm-11 1L8.5 8.5l.94-2.06 2.06-.94-2.06-.94L8.5 2.5l-.94 2.06-2.06.94zm10 10l.94 2.06.94-2.06 2.06-.94-2.06-.94-.94-2.06-.94 2.06-2.06.94z\"/><path d=\"M17.41 7.96l-1.37-1.37c-.4-.4-.92-.59-1.43-.59-.52 0-1.04.2-1.43.59L10.3 9.45l-7.72 7.72c-.78.78-.78 2.05 0 2.83L4 21.41c.39.39.9.59 1.41.59.51 0 1.02-.2 1.41-.59l7.78-7.78 2.81-2.81c.8-.78.8-2.07 0-2.86zM5.41 20L4 18.59l7.72-7.72 1.47 1.35L5.41 20z\"/>\n",
              "  </svg>\n",
              "      </button>\n",
              "      \n",
              "  <style>\n",
              "    .colab-df-container {\n",
              "      display:flex;\n",
              "      flex-wrap:wrap;\n",
              "      gap: 12px;\n",
              "    }\n",
              "\n",
              "    .colab-df-convert {\n",
              "      background-color: #E8F0FE;\n",
              "      border: none;\n",
              "      border-radius: 50%;\n",
              "      cursor: pointer;\n",
              "      display: none;\n",
              "      fill: #1967D2;\n",
              "      height: 32px;\n",
              "      padding: 0 0 0 0;\n",
              "      width: 32px;\n",
              "    }\n",
              "\n",
              "    .colab-df-convert:hover {\n",
              "      background-color: #E2EBFA;\n",
              "      box-shadow: 0px 1px 2px rgba(60, 64, 67, 0.3), 0px 1px 3px 1px rgba(60, 64, 67, 0.15);\n",
              "      fill: #174EA6;\n",
              "    }\n",
              "\n",
              "    [theme=dark] .colab-df-convert {\n",
              "      background-color: #3B4455;\n",
              "      fill: #D2E3FC;\n",
              "    }\n",
              "\n",
              "    [theme=dark] .colab-df-convert:hover {\n",
              "      background-color: #434B5C;\n",
              "      box-shadow: 0px 1px 3px 1px rgba(0, 0, 0, 0.15);\n",
              "      filter: drop-shadow(0px 1px 2px rgba(0, 0, 0, 0.3));\n",
              "      fill: #FFFFFF;\n",
              "    }\n",
              "  </style>\n",
              "\n",
              "      <script>\n",
              "        const buttonEl =\n",
              "          document.querySelector('#df-11042873-8041-498a-b54f-2aa949d7a6bb button.colab-df-convert');\n",
              "        buttonEl.style.display =\n",
              "          google.colab.kernel.accessAllowed ? 'block' : 'none';\n",
              "\n",
              "        async function convertToInteractive(key) {\n",
              "          const element = document.querySelector('#df-11042873-8041-498a-b54f-2aa949d7a6bb');\n",
              "          const dataTable =\n",
              "            await google.colab.kernel.invokeFunction('convertToInteractive',\n",
              "                                                     [key], {});\n",
              "          if (!dataTable) return;\n",
              "\n",
              "          const docLinkHtml = 'Like what you see? Visit the ' +\n",
              "            '<a target=\"_blank\" href=https://colab.research.google.com/notebooks/data_table.ipynb>data table notebook</a>'\n",
              "            + ' to learn more about interactive tables.';\n",
              "          element.innerHTML = '';\n",
              "          dataTable['output_type'] = 'display_data';\n",
              "          await google.colab.output.renderOutput(dataTable, element);\n",
              "          const docLink = document.createElement('div');\n",
              "          docLink.innerHTML = docLinkHtml;\n",
              "          element.appendChild(docLink);\n",
              "        }\n",
              "      </script>\n",
              "    </div>\n",
              "  </div>\n",
              "  "
            ]
          },
          "metadata": {},
          "execution_count": 17
        }
      ],
      "source": [
        "bart_train.head()"
      ]
    },
    {
      "cell_type": "code",
      "execution_count": null,
      "metadata": {
        "colab": {
          "base_uri": "https://localhost:8080/"
        },
        "id": "CIpbNu8b5Fmp",
        "outputId": "55333029-8f4d-4da1-a929-f00841b3d880"
      },
      "outputs": [
        {
          "output_type": "stream",
          "name": "stdout",
          "text": [
            "                            OLS Regression Results                            \n",
            "==============================================================================\n",
            "Dep. Variable:           transbayUtil   R-squared:                       0.526\n",
            "Model:                            OLS   Adj. R-squared:                  0.526\n",
            "Method:                 Least Squares   F-statistic:                     6085.\n",
            "Date:                Fri, 16 Dec 2022   Prob (F-statistic):               0.00\n",
            "Time:                        18:06:59   Log-Likelihood:                 58523.\n",
            "No. Observations:               87648   AIC:                        -1.170e+05\n",
            "Df Residuals:                   87631   BIC:                        -1.169e+05\n",
            "Df Model:                          16                                         \n",
            "Covariance Type:            nonrobust                                         \n",
            "==========================================================================================\n",
            "                             coef    std err          t      P>|t|      [0.025      0.975]\n",
            "------------------------------------------------------------------------------------------\n",
            "Intercept                  0.0468      0.002     20.813      0.000       0.042       0.051\n",
            "dayOfWeek[T.Monday]        0.0419      0.002     26.372      0.000       0.039       0.045\n",
            "dayOfWeek[T.Saturday]     -0.0299      0.002    -18.945      0.000      -0.033      -0.027\n",
            "dayOfWeek[T.Sunday]       -0.0208      0.002    -13.123      0.000      -0.024      -0.018\n",
            "dayOfWeek[T.Thursday]      0.0022      0.002      1.390      0.164      -0.001       0.005\n",
            "dayOfWeek[T.Tuesday]       0.0062      0.002      3.954      0.000       0.003       0.009\n",
            "dayOfWeek[T.Wednesday]     0.0051      0.002      3.261      0.001       0.002       0.008\n",
            "travelTime                 0.0018   5.21e-05     34.581      0.000       0.002       0.002\n",
            "sfoAirTemp                 0.0001      0.000      0.414      0.679      -0.000       0.001\n",
            "sfoPrecip                  0.0014      0.002      0.898      0.369      -0.002       0.005\n",
            "oakAirTemp             -3.375e-06      0.000     -0.012      0.990      -0.001       0.001\n",
            "oakPrecip               2.577e-05      0.002      0.015      0.988      -0.003       0.003\n",
            "spareAirDay               -0.0040      0.002     -1.996      0.046      -0.008   -7.29e-05\n",
            "yesterday                  0.5225      0.003    198.563      0.000       0.517       0.528\n",
            "lastHour                   0.2793      0.003    105.564      0.000       0.274       0.285\n",
            "sfGiants                   0.0044      0.001      3.978      0.000       0.002       0.006\n",
            "oakAs                     -0.0024      0.001     -2.219      0.027      -0.005      -0.000\n",
            "==============================================================================\n",
            "Omnibus:                    21642.292   Durbin-Watson:                   1.902\n",
            "Prob(Omnibus):                  0.000   Jarque-Bera (JB):           749507.304\n",
            "Skew:                           0.504   Prob(JB):                         0.00\n",
            "Kurtosis:                      17.290   Cond. No.                         245.\n",
            "==============================================================================\n",
            "\n",
            "Notes:\n",
            "[1] Standard Errors assume that the covariance matrix of the errors is correctly specified.\n",
            "Training RMSE: 0.124\n",
            "Training MAE: 0.067\n"
          ]
        }
      ],
      "source": [
        "ar2 = smf.ols(formula='transbayUtil ~ travelTime + dayOfWeek + sfoAirTemp + sfoPrecip + oakAirTemp + oakPrecip + spareAirDay + yesterday + lastHour + sfGiants + oakAs', data=bart_train).fit()\n",
        "print(ar2.summary())\n",
        "print('Training RMSE:', round(RMSE(bart_train['transbayUtil'], ar2.predict(bart_train)), 3))\n",
        "print('Training MAE:', round(MAE(bart_train['transbayUtil'], ar2.predict(bart_train)), 3))"
      ]
    },
    {
      "cell_type": "code",
      "execution_count": null,
      "metadata": {
        "colab": {
          "base_uri": "https://localhost:8080/"
        },
        "id": "BUM0dmSBCAOx",
        "outputId": "100426e3-1def-483e-980c-88c5f21ee88f"
      },
      "outputs": [
        {
          "output_type": "stream",
          "name": "stderr",
          "text": [
            "/usr/local/lib/python3.8/dist-packages/statsmodels/tsa/tsatools.py:142: FutureWarning: In a future version of pandas all arguments of concat except for the argument 'objs' will be keyword-only\n",
            "  x = pd.concat(x[::order], 1)\n"
          ]
        },
        {
          "output_type": "execute_result",
          "data": {
            "text/plain": [
              "travelTime     1.122609\n",
              "sfoAirTemp     8.746268\n",
              "sfoPrecip      2.148049\n",
              "oakAirTemp     8.744319\n",
              "oakPrecip      2.145973\n",
              "spareAirDay    1.066153\n",
              "yesterday      1.244455\n",
              "lastHour       1.262533\n",
              "sfGiants       1.073935\n",
              "oakAs          1.075910\n",
              "dtype: float64"
            ]
          },
          "metadata": {},
          "execution_count": 19
        }
      ],
      "source": [
        "cols = ['travelTime','sfoAirTemp', 'sfoPrecip', 'oakAirTemp', 'oakPrecip', 'spareAirDay', 'yesterday', 'lastHour', 'sfGiants', 'oakAs']\n",
        "VIF(bart_train[24:], cols)"
      ]
    },
    {
      "cell_type": "code",
      "execution_count": null,
      "metadata": {
        "colab": {
          "base_uri": "https://localhost:8080/",
          "height": 287
        },
        "id": "VprIHumx5nWM",
        "outputId": "2a930727-fd2e-4d4d-fd6e-edb04a36cbaa"
      },
      "outputs": [
        {
          "output_type": "display_data",
          "data": {
            "text/plain": [
              "<Figure size 1152x288 with 1 Axes>"
            ],
            "image/png": "[encoded data removed]"
          },
          "metadata": {
            "needs_background": "light"
          }
        }
      ],
      "source": [
        "y_pred = ar2.predict(bart_train).to_numpy()\n",
        "plot_last_five_hundred(x, y, red=y_pred)"
      ]
    },
    {
      "cell_type": "code",
      "execution_count": null,
      "metadata": {
        "colab": {
          "base_uri": "https://localhost:8080/"
        },
        "id": "VE1p9a-g539y",
        "outputId": "48c1a7c7-e240-48f8-8fa6-c66067c16b37"
      },
      "outputs": [
        {
          "output_type": "stream",
          "name": "stdout",
          "text": [
            "                            OLS Regression Results                            \n",
            "==============================================================================\n",
            "Dep. Variable:           transbayUtil   R-squared:                       0.526\n",
            "Model:                            OLS   Adj. R-squared:                  0.526\n",
            "Method:                 Least Squares   F-statistic:                     8113.\n",
            "Date:                Fri, 16 Dec 2022   Prob (F-statistic):               0.00\n",
            "Time:                        18:07:01   Log-Likelihood:                 58521.\n",
            "No. Observations:               87648   AIC:                        -1.170e+05\n",
            "Df Residuals:                   87635   BIC:                        -1.169e+05\n",
            "Df Model:                          12                                         \n",
            "Covariance Type:            nonrobust                                         \n",
            "==========================================================================================\n",
            "                             coef    std err          t      P>|t|      [0.025      0.975]\n",
            "------------------------------------------------------------------------------------------\n",
            "Intercept                  0.0481      0.002     24.975      0.000       0.044       0.052\n",
            "dayOfWeek[T.Monday]        0.0419      0.002     26.433      0.000       0.039       0.045\n",
            "dayOfWeek[T.Saturday]     -0.0298      0.002    -18.927      0.000      -0.033      -0.027\n",
            "dayOfWeek[T.Sunday]       -0.0207      0.002    -13.092      0.000      -0.024      -0.018\n",
            "dayOfWeek[T.Thursday]      0.0022      0.002      1.421      0.155      -0.001       0.005\n",
            "dayOfWeek[T.Tuesday]       0.0062      0.002      3.961      0.000       0.003       0.009\n",
            "dayOfWeek[T.Wednesday]     0.0051      0.002      3.280      0.001       0.002       0.008\n",
            "travelTime                 0.0018   5.09e-05     35.654      0.000       0.002       0.002\n",
            "spareAirDay               -0.0036      0.002     -1.831      0.067      -0.007       0.000\n",
            "yesterday                  0.5226      0.003    198.836      0.000       0.517       0.528\n",
            "lastHour                   0.2795      0.003    105.709      0.000       0.274       0.285\n",
            "sfGiants                   0.0045      0.001      4.238      0.000       0.002       0.007\n",
            "oakAs                     -0.0022      0.001     -2.105      0.035      -0.004      -0.000\n",
            "==============================================================================\n",
            "Omnibus:                    21603.011   Durbin-Watson:                   1.902\n",
            "Prob(Omnibus):                  0.000   Jarque-Bera (JB):           749778.114\n",
            "Skew:                           0.501   Prob(JB):                         0.00\n",
            "Kurtosis:                      17.293   Cond. No.                         183.\n",
            "==============================================================================\n",
            "\n",
            "Notes:\n",
            "[1] Standard Errors assume that the covariance matrix of the errors is correctly specified.\n",
            "Training RMSE: 0.124\n",
            "Training MAE: 0.067\n"
          ]
        }
      ],
      "source": [
        "start = time.time()\n",
        "ar3 = smf.ols(formula='transbayUtil ~ travelTime + dayOfWeek + spareAirDay + yesterday + lastHour + sfGiants + oakAs', data=bart_train).fit()\n",
        "end = time.time()\n",
        "print(ar3.summary())\n",
        "print('Training RMSE:', round(RMSE(bart_train['transbayUtil'], ar3.predict(bart_train)), 3))\n",
        "print('Training MAE:', round(MAE(bart_train['transbayUtil'], ar3.predict(bart_train)), 3))\n",
        "autoreg_time = start-end"
      ]
    },
    {
      "cell_type": "code",
      "execution_count": null,
      "metadata": {
        "colab": {
          "base_uri": "https://localhost:8080/"
        },
        "id": "3Ml7wyzpGmu0",
        "outputId": "c7c3105e-221f-47ab-894e-aefe4baf6f27"
      },
      "outputs": [
        {
          "output_type": "stream",
          "name": "stderr",
          "text": [
            "/usr/local/lib/python3.8/dist-packages/statsmodels/tsa/tsatools.py:142: FutureWarning: In a future version of pandas all arguments of concat except for the argument 'objs' will be keyword-only\n",
            "  x = pd.concat(x[::order], 1)\n"
          ]
        },
        {
          "output_type": "execute_result",
          "data": {
            "text/plain": [
              "travelTime     1.072693\n",
              "spareAirDay    1.004269\n",
              "yesterday      1.242243\n",
              "lastHour       1.260084\n",
              "sfGiants       1.021529\n",
              "oakAs          1.015710\n",
              "dtype: float64"
            ]
          },
          "metadata": {},
          "execution_count": 22
        }
      ],
      "source": [
        "cols = ['travelTime', 'spareAirDay', 'yesterday', 'lastHour', 'sfGiants', 'oakAs']\n",
        "VIF(bart_train[24:], cols)"
      ]
    },
    {
      "cell_type": "code",
      "execution_count": null,
      "metadata": {
        "colab": {
          "base_uri": "https://localhost:8080/",
          "height": 287
        },
        "id": "Oz8DiVYFko1A",
        "outputId": "78aeb248-3a5f-4458-abcc-8e264b781677"
      },
      "outputs": [
        {
          "output_type": "display_data",
          "data": {
            "text/plain": [
              "<Figure size 1152x288 with 1 Axes>"
            ],
            "image/png": "[encoded data removed]"
          },
          "metadata": {
            "needs_background": "light"
          }
        }
      ],
      "source": [
        "y_pred = ar3.predict(bart_train).to_numpy()\n",
        "plot_last_five_hundred(x, y, red=y_pred)"
      ]
    },
    {
      "cell_type": "markdown",
      "metadata": {
        "id": "HYN_fGC5zklD"
      },
      "source": [
        "## Part VI: Neural Network Model"
      ]
    },
    {
      "cell_type": "code",
      "execution_count": null,
      "metadata": {
        "colab": {
          "base_uri": "https://localhost:8080/",
          "height": 473
        },
        "id": "9wKPEk_p0U3C",
        "outputId": "dc5d79a1-a5f9-4feb-9227-43357a9ae17e"
      },
      "outputs": [
        {
          "output_type": "execute_result",
          "data": {
            "text/plain": [
              "             datetime  transbayRides  systemRides  transbayUtil  travelTime  \\\n",
              "0 2011-01-01 00:00:00         2473.0       5175.0      0.477874   15.669167   \n",
              "1 2011-01-01 01:00:00         9884.0      15479.0      0.638543   16.778333   \n",
              "2 2011-01-01 02:00:00         7050.0      11055.0      0.637720   16.237500   \n",
              "3 2011-01-01 03:00:00         4135.0       5592.0      0.739449   15.604167   \n",
              "4 2011-01-01 04:00:00          686.0        795.0      0.862893   15.732500   \n",
              "\n",
              "   sfoAirTemp  sfoPrecip  oakAirTemp  oakPrecip  spareAirDay  ...  lastHour  \\\n",
              "0         8.9        0.0         8.9       -0.1          0.0  ...       NaN   \n",
              "1         8.9        0.3         8.9        0.3          0.0  ...  0.477874   \n",
              "2         8.3        0.5         8.9        0.3          0.0  ...  0.638543   \n",
              "3         8.9       -0.1         8.9        0.3          0.0  ...  0.637720   \n",
              "4         8.9       -0.1         9.4       -0.1          0.0  ...  0.739449   \n",
              "\n",
              "   sfGiants  oakAs  dayOfWeek_Friday  dayOfWeek_Monday  dayOfWeek_Saturday  \\\n",
              "0         0      0                 0                 0                   1   \n",
              "1         0      0                 0                 0                   1   \n",
              "2         0      0                 0                 0                   1   \n",
              "3         0      0                 0                 0                   1   \n",
              "4         0      0                 0                 0                   1   \n",
              "\n",
              "   dayOfWeek_Sunday  dayOfWeek_Thursday  dayOfWeek_Tuesday  \\\n",
              "0                 0                   0                  0   \n",
              "1                 0                   0                  0   \n",
              "2                 0                   0                  0   \n",
              "3                 0                   0                  0   \n",
              "4                 0                   0                  0   \n",
              "\n",
              "   dayOfWeek_Wednesday  \n",
              "0                    0  \n",
              "1                    0  \n",
              "2                    0  \n",
              "3                    0  \n",
              "4                    0  \n",
              "\n",
              "[5 rows x 21 columns]"
            ],
            "text/html": [
              "\n",
              "  <div id=\"df-49802f82-4770-4189-be77-dac1ae644a4d\">\n",
              "    <div class=\"colab-df-container\">\n",
              "      <div>\n",
              "<style scoped>\n",
              "    .dataframe tbody tr th:only-of-type {\n",
              "        vertical-align: middle;\n",
              "    }\n",
              "\n",
              "    .dataframe tbody tr th {\n",
              "        vertical-align: top;\n",
              "    }\n",
              "\n",
              "    .dataframe thead th {\n",
              "        text-align: right;\n",
              "    }\n",
              "</style>\n",
              "<table border=\"1\" class=\"dataframe\">\n",
              "  <thead>\n",
              "    <tr style=\"text-align: right;\">\n",
              "      <th></th>\n",
              "      <th>datetime</th>\n",
              "      <th>transbayRides</th>\n",
              "      <th>systemRides</th>\n",
              "      <th>transbayUtil</th>\n",
              "      <th>travelTime</th>\n",
              "      <th>sfoAirTemp</th>\n",
              "      <th>sfoPrecip</th>\n",
              "      <th>oakAirTemp</th>\n",
              "      <th>oakPrecip</th>\n",
              "      <th>spareAirDay</th>\n",
              "      <th>...</th>\n",
              "      <th>lastHour</th>\n",
              "      <th>sfGiants</th>\n",
              "      <th>oakAs</th>\n",
              "      <th>dayOfWeek_Friday</th>\n",
              "      <th>dayOfWeek_Monday</th>\n",
              "      <th>dayOfWeek_Saturday</th>\n",
              "      <th>dayOfWeek_Sunday</th>\n",
              "      <th>dayOfWeek_Thursday</th>\n",
              "      <th>dayOfWeek_Tuesday</th>\n",
              "      <th>dayOfWeek_Wednesday</th>\n",
              "    </tr>\n",
              "  </thead>\n",
              "  <tbody>\n",
              "    <tr>\n",
              "      <th>0</th>\n",
              "      <td>2011-01-01 00:00:00</td>\n",
              "      <td>2473.0</td>\n",
              "      <td>5175.0</td>\n",
              "      <td>0.477874</td>\n",
              "      <td>15.669167</td>\n",
              "      <td>8.9</td>\n",
              "      <td>0.0</td>\n",
              "      <td>8.9</td>\n",
              "      <td>-0.1</td>\n",
              "      <td>0.0</td>\n",
              "      <td>...</td>\n",
              "      <td>NaN</td>\n",
              "      <td>0</td>\n",
              "      <td>0</td>\n",
              "      <td>0</td>\n",
              "      <td>0</td>\n",
              "      <td>1</td>\n",
              "      <td>0</td>\n",
              "      <td>0</td>\n",
              "      <td>0</td>\n",
              "      <td>0</td>\n",
              "    </tr>\n",
              "    <tr>\n",
              "      <th>1</th>\n",
              "      <td>2011-01-01 01:00:00</td>\n",
              "      <td>9884.0</td>\n",
              "      <td>15479.0</td>\n",
              "      <td>0.638543</td>\n",
              "      <td>16.778333</td>\n",
              "      <td>8.9</td>\n",
              "      <td>0.3</td>\n",
              "      <td>8.9</td>\n",
              "      <td>0.3</td>\n",
              "      <td>0.0</td>\n",
              "      <td>...</td>\n",
              "      <td>0.477874</td>\n",
              "      <td>0</td>\n",
              "      <td>0</td>\n",
              "      <td>0</td>\n",
              "      <td>0</td>\n",
              "      <td>1</td>\n",
              "      <td>0</td>\n",
              "      <td>0</td>\n",
              "      <td>0</td>\n",
              "      <td>0</td>\n",
              "    </tr>\n",
              "    <tr>\n",
              "      <th>2</th>\n",
              "      <td>2011-01-01 02:00:00</td>\n",
              "      <td>7050.0</td>\n",
              "      <td>11055.0</td>\n",
              "      <td>0.637720</td>\n",
              "      <td>16.237500</td>\n",
              "      <td>8.3</td>\n",
              "      <td>0.5</td>\n",
              "      <td>8.9</td>\n",
              "      <td>0.3</td>\n",
              "      <td>0.0</td>\n",
              "      <td>...</td>\n",
              "      <td>0.638543</td>\n",
              "      <td>0</td>\n",
              "      <td>0</td>\n",
              "      <td>0</td>\n",
              "      <td>0</td>\n",
              "      <td>1</td>\n",
              "      <td>0</td>\n",
              "      <td>0</td>\n",
              "      <td>0</td>\n",
              "      <td>0</td>\n",
              "    </tr>\n",
              "    <tr>\n",
              "      <th>3</th>\n",
              "      <td>2011-01-01 03:00:00</td>\n",
              "      <td>4135.0</td>\n",
              "      <td>5592.0</td>\n",
              "      <td>0.739449</td>\n",
              "      <td>15.604167</td>\n",
              "      <td>8.9</td>\n",
              "      <td>-0.1</td>\n",
              "      <td>8.9</td>\n",
              "      <td>0.3</td>\n",
              "      <td>0.0</td>\n",
              "      <td>...</td>\n",
              "      <td>0.637720</td>\n",
              "      <td>0</td>\n",
              "      <td>0</td>\n",
              "      <td>0</td>\n",
              "      <td>0</td>\n",
              "      <td>1</td>\n",
              "      <td>0</td>\n",
              "      <td>0</td>\n",
              "      <td>0</td>\n",
              "      <td>0</td>\n",
              "    </tr>\n",
              "    <tr>\n",
              "      <th>4</th>\n",
              "      <td>2011-01-01 04:00:00</td>\n",
              "      <td>686.0</td>\n",
              "      <td>795.0</td>\n",
              "      <td>0.862893</td>\n",
              "      <td>15.732500</td>\n",
              "      <td>8.9</td>\n",
              "      <td>-0.1</td>\n",
              "      <td>9.4</td>\n",
              "      <td>-0.1</td>\n",
              "      <td>0.0</td>\n",
              "      <td>...</td>\n",
              "      <td>0.739449</td>\n",
              "      <td>0</td>\n",
              "      <td>0</td>\n",
              "      <td>0</td>\n",
              "      <td>0</td>\n",
              "      <td>1</td>\n",
              "      <td>0</td>\n",
              "      <td>0</td>\n",
              "      <td>0</td>\n",
              "      <td>0</td>\n",
              "    </tr>\n",
              "  </tbody>\n",
              "</table>\n",
              "<p>5 rows × 21 columns</p>\n",
              "</div>\n",
              "      <button class=\"colab-df-convert\" onclick=\"convertToInteractive('df-49802f82-4770-4189-be77-dac1ae644a4d')\"\n",
              "              title=\"Convert this dataframe to an interactive table.\"\n",
              "              style=\"display:none;\">\n",
              "        \n",
              "  <svg xmlns=\"http://www.w3.org/2000/svg\" height=\"24px\"viewBox=\"0 0 24 24\"\n",
              "       width=\"24px\">\n",
              "    <path d=\"M0 0h24v24H0V0z\" fill=\"none\"/>\n",
              "    <path d=\"M18.56 5.44l.94 2.06.94-2.06 2.06-.94-2.06-.94-.94-2.06-.94 2.06-2.06.94zm-11 1L8.5 8.5l.94-2.06 2.06-.94-2.06-.94L8.5 2.5l-.94 2.06-2.06.94zm10 10l.94 2.06.94-2.06 2.06-.94-2.06-.94-.94-2.06-.94 2.06-2.06.94z\"/><path d=\"M17.41 7.96l-1.37-1.37c-.4-.4-.92-.59-1.43-.59-.52 0-1.04.2-1.43.59L10.3 9.45l-7.72 7.72c-.78.78-.78 2.05 0 2.83L4 21.41c.39.39.9.59 1.41.59.51 0 1.02-.2 1.41-.59l7.78-7.78 2.81-2.81c.8-.78.8-2.07 0-2.86zM5.41 20L4 18.59l7.72-7.72 1.47 1.35L5.41 20z\"/>\n",
              "  </svg>\n",
              "      </button>\n",
              "      \n",
              "  <style>\n",
              "    .colab-df-container {\n",
              "      display:flex;\n",
              "      flex-wrap:wrap;\n",
              "      gap: 12px;\n",
              "    }\n",
              "\n",
              "    .colab-df-convert {\n",
              "      background-color: #E8F0FE;\n",
              "      border: none;\n",
              "      border-radius: 50%;\n",
              "      cursor: pointer;\n",
              "      display: none;\n",
              "      fill: #1967D2;\n",
              "      height: 32px;\n",
              "      padding: 0 0 0 0;\n",
              "      width: 32px;\n",
              "    }\n",
              "\n",
              "    .colab-df-convert:hover {\n",
              "      background-color: #E2EBFA;\n",
              "      box-shadow: 0px 1px 2px rgba(60, 64, 67, 0.3), 0px 1px 3px 1px rgba(60, 64, 67, 0.15);\n",
              "      fill: #174EA6;\n",
              "    }\n",
              "\n",
              "    [theme=dark] .colab-df-convert {\n",
              "      background-color: #3B4455;\n",
              "      fill: #D2E3FC;\n",
              "    }\n",
              "\n",
              "    [theme=dark] .colab-df-convert:hover {\n",
              "      background-color: #434B5C;\n",
              "      box-shadow: 0px 1px 3px 1px rgba(0, 0, 0, 0.15);\n",
              "      filter: drop-shadow(0px 1px 2px rgba(0, 0, 0, 0.3));\n",
              "      fill: #FFFFFF;\n",
              "    }\n",
              "  </style>\n",
              "\n",
              "      <script>\n",
              "        const buttonEl =\n",
              "          document.querySelector('#df-49802f82-4770-4189-be77-dac1ae644a4d button.colab-df-convert');\n",
              "        buttonEl.style.display =\n",
              "          google.colab.kernel.accessAllowed ? 'block' : 'none';\n",
              "\n",
              "        async function convertToInteractive(key) {\n",
              "          const element = document.querySelector('#df-49802f82-4770-4189-be77-dac1ae644a4d');\n",
              "          const dataTable =\n",
              "            await google.colab.kernel.invokeFunction('convertToInteractive',\n",
              "                                                     [key], {});\n",
              "          if (!dataTable) return;\n",
              "\n",
              "          const docLinkHtml = 'Like what you see? Visit the ' +\n",
              "            '<a target=\"_blank\" href=https://colab.research.google.com/notebooks/data_table.ipynb>data table notebook</a>'\n",
              "            + ' to learn more about interactive tables.';\n",
              "          element.innerHTML = '';\n",
              "          dataTable['output_type'] = 'display_data';\n",
              "          await google.colab.output.renderOutput(dataTable, element);\n",
              "          const docLink = document.createElement('div');\n",
              "          docLink.innerHTML = docLinkHtml;\n",
              "          element.appendChild(docLink);\n",
              "        }\n",
              "      </script>\n",
              "    </div>\n",
              "  </div>\n",
              "  "
            ]
          },
          "metadata": {},
          "execution_count": 24
        }
      ],
      "source": [
        "X_train = pd.get_dummies(bart_train, columns=['dayOfWeek'])\n",
        "X_test = pd.get_dummies(bart_test, columns=['dayOfWeek'])\n",
        "X_train.head()"
      ]
    },
    {
      "cell_type": "code",
      "execution_count": null,
      "metadata": {
        "colab": {
          "base_uri": "https://localhost:8080/"
        },
        "id": "Ihptvoyd10Bi",
        "outputId": "aaa1957d-0eff-4002-ea99-79046f8a47b7"
      },
      "outputs": [
        {
          "output_type": "stream",
          "name": "stdout",
          "text": [
            "(87648, 17)\n"
          ]
        }
      ],
      "source": [
        "y_train = X_train['transbayUtil']\n",
        "y_test = X_test['transbayUtil']\n",
        "X_train.drop(columns=['datetime', 'transbayRides', 'systemRides', 'transbayUtil'], inplace=True)\n",
        "X_test.drop(columns=['datetime', 'transbayRides', 'systemRides', 'transbayUtil'], inplace=True)\n",
        "X_train = X_train[24:]\n",
        "y_train = y_train[24:]\n",
        "print(X_train.shape)"
      ]
    },
    {
      "cell_type": "code",
      "execution_count": null,
      "metadata": {
        "id": "OVtr9BWg_e32"
      },
      "outputs": [],
      "source": [
        "y_train_nn = y_train.to_numpy()\n",
        "y_test_nn = y_test.to_numpy()\n",
        "X_train_nn = X_train.to_numpy()\n",
        "X_test_nn = X_test.to_numpy()"
      ]
    },
    {
      "cell_type": "code",
      "execution_count": null,
      "metadata": {
        "colab": {
          "base_uri": "https://localhost:8080/"
        },
        "id": "YMTY_YOwzoLx",
        "outputId": "790ed677-7694-441e-9834-8abadac2eaad"
      },
      "outputs": [
        {
          "output_type": "stream",
          "name": "stdout",
          "text": [
            "Epoch 1/10\n",
            "1096/1096 [==============================] - 4s 3ms/step - loss: 0.0361 - mean_squared_error: 0.0361 - mean_absolute_error: 0.1289 - val_loss: 0.0205 - val_mean_squared_error: 0.0205 - val_mean_absolute_error: 0.0935\n",
            "Epoch 2/10\n",
            "1096/1096 [==============================] - 3s 3ms/step - loss: 0.0156 - mean_squared_error: 0.0156 - mean_absolute_error: 0.0727 - val_loss: 0.0207 - val_mean_squared_error: 0.0207 - val_mean_absolute_error: 0.0915\n",
            "Epoch 3/10\n",
            "1096/1096 [==============================] - 3s 2ms/step - loss: 0.0153 - mean_squared_error: 0.0153 - mean_absolute_error: 0.0706 - val_loss: 0.0186 - val_mean_squared_error: 0.0186 - val_mean_absolute_error: 0.0774\n",
            "Epoch 4/10\n",
            "1096/1096 [==============================] - 3s 2ms/step - loss: 0.0152 - mean_squared_error: 0.0152 - mean_absolute_error: 0.0703 - val_loss: 0.0181 - val_mean_squared_error: 0.0181 - val_mean_absolute_error: 0.0777\n",
            "Epoch 5/10\n",
            "1096/1096 [==============================] - 3s 3ms/step - loss: 0.0152 - mean_squared_error: 0.0152 - mean_absolute_error: 0.0700 - val_loss: 0.0181 - val_mean_squared_error: 0.0181 - val_mean_absolute_error: 0.0740\n",
            "Epoch 6/10\n",
            "1096/1096 [==============================] - 3s 2ms/step - loss: 0.0152 - mean_squared_error: 0.0152 - mean_absolute_error: 0.0697 - val_loss: 0.0183 - val_mean_squared_error: 0.0183 - val_mean_absolute_error: 0.0810\n",
            "Epoch 7/10\n",
            "1096/1096 [==============================] - 3s 3ms/step - loss: 0.0151 - mean_squared_error: 0.0151 - mean_absolute_error: 0.0696 - val_loss: 0.0199 - val_mean_squared_error: 0.0199 - val_mean_absolute_error: 0.0865\n",
            "Epoch 8/10\n",
            "1096/1096 [==============================] - 3s 2ms/step - loss: 0.0151 - mean_squared_error: 0.0151 - mean_absolute_error: 0.0698 - val_loss: 0.0185 - val_mean_squared_error: 0.0185 - val_mean_absolute_error: 0.0767\n",
            "Epoch 9/10\n",
            "1096/1096 [==============================] - 3s 3ms/step - loss: 0.0151 - mean_squared_error: 0.0151 - mean_absolute_error: 0.0694 - val_loss: 0.0179 - val_mean_squared_error: 0.0179 - val_mean_absolute_error: 0.0757\n",
            "Epoch 10/10\n",
            "1096/1096 [==============================] - 5s 4ms/step - loss: 0.0151 - mean_squared_error: 0.0151 - mean_absolute_error: 0.0692 - val_loss: 0.0190 - val_mean_squared_error: 0.0190 - val_mean_absolute_error: 0.0812\n"
          ]
        }
      ],
      "source": [
        "nn = Sequential()\n",
        "nn.add(Input(shape=(17,)))\n",
        "nn.add(Dense(10, activation='relu'))\n",
        "nn.add(Dense(5, activation='relu'))\n",
        "nn.add(Dense(1))\n",
        "\n",
        "opt = RMSprop()\n",
        "nn.compile(optimizer=opt,\n",
        "                 loss='mse',\n",
        "               metrics=['mean_squared_error', 'mean_absolute_error'])\n",
        "\n",
        "## Training the model\n",
        "start = time.time()\n",
        "nn.fit(X_train_nn, y_train_nn, epochs=10, batch_size=64, validation_split=0.2)\n",
        "end = time.time()\n",
        "neural_time = end - start"
      ]
    },
    {
      "cell_type": "code",
      "execution_count": null,
      "metadata": {
        "id": "KDJ6Cmds6qqm",
        "colab": {
          "base_uri": "https://localhost:8080/"
        },
        "outputId": "3393571a-da94-422f-caf5-48e30943544b"
      },
      "outputs": [
        {
          "output_type": "stream",
          "name": "stdout",
          "text": [
            "Model: \"sequential\"\n",
            "_________________________________________________________________\n",
            " Layer (type)                Output Shape              Param #   \n",
            "=================================================================\n",
            " dense (Dense)               (None, 10)                180       \n",
            "                                                                 \n",
            " dense_1 (Dense)             (None, 5)                 55        \n",
            "                                                                 \n",
            " dense_2 (Dense)             (None, 1)                 6         \n",
            "                                                                 \n",
            "=================================================================\n",
            "Total params: 241\n",
            "Trainable params: 241\n",
            "Non-trainable params: 0\n",
            "_________________________________________________________________\n",
            "2739/2739 [==============================] - 5s 2ms/step - loss: 0.0164 - mean_squared_error: 0.0164 - mean_absolute_error: 0.0753\n"
          ]
        }
      ],
      "source": [
        "nn.summary()\n",
        "loss, rmse, mae = nn.evaluate(X_train_nn, y_train_nn)"
      ]
    },
    {
      "cell_type": "code",
      "execution_count": null,
      "metadata": {
        "id": "w-5gLzIk7CgL",
        "colab": {
          "base_uri": "https://localhost:8080/"
        },
        "outputId": "944ef2ad-5fe2-40b0-adc5-47ff1b1e7c93"
      },
      "outputs": [
        {
          "output_type": "stream",
          "name": "stdout",
          "text": [
            "2739/2739 [==============================] - 4s 2ms/step\n",
            "Training RMSE: 0.128\n",
            "Training MAE: 0.0753\n",
            "Training R^2: 0.496\n"
          ]
        }
      ],
      "source": [
        "nn_pred_train = nn.predict(X_train_nn)\n",
        "print('Training RMSE:', round(RMSE(y_train_nn, nn_pred_train.flatten()), 4))\n",
        "print('Training MAE:', round(MAE(y_train_nn, nn_pred_train.flatten()), 4))\n",
        "print('Training R^2:', round(OSR2(y_train_nn, y_train_nn, nn_pred_train.flatten()), 4))"
      ]
    },
    {
      "cell_type": "code",
      "execution_count": null,
      "metadata": {
        "id": "cASZlbhD9xVp",
        "colab": {
          "base_uri": "https://localhost:8080/",
          "height": 284
        },
        "outputId": "c17ea557-555d-4761-8499-5966972990b2"
      },
      "outputs": [
        {
          "output_type": "display_data",
          "data": {
            "text/plain": [
              "<Figure size 1152x288 with 1 Axes>"
            ],
            "image/png": "[encoded data removed]"
          },
          "metadata": {
            "needs_background": "light"
          }
        }
      ],
      "source": [
        "x = bart_train['datetime'].to_numpy()\n",
        "y = bart_train['transbayUtil'].to_numpy()\n",
        "plot_last_fifty(x, y, red=nn_pred_train.flatten())"
      ]
    },
    {
      "cell_type": "markdown",
      "metadata": {
        "id": "Rq7xhdxu2Nq8"
      },
      "source": [
        "## Part VII: Tree Models"
      ]
    },
    {
      "cell_type": "code",
      "execution_count": null,
      "metadata": {
        "id": "Tn9FyS3z6uJh"
      },
      "outputs": [],
      "source": [
        "def OSR2_tree(model, X_test, y_test, y_train):\n",
        "    \n",
        "    y_pred = model.predict(X_test)\n",
        "    SSE = np.sum((y_test - y_pred)**2)\n",
        "    SST = np.sum((y_test - np.mean(y_train))**2)\n",
        "                 \n",
        "    return (1 - SSE/SST)\n",
        "\n",
        "def OSR2_pred(y_pred, y_train, y_test):\n",
        "    SSE = np.sum((y_test - y_pred)**2)\n",
        "    SST = np.sum((y_test - np.mean(y_train))**2)\n",
        "                 \n",
        "    return (1 - SSE/SST)"
      ]
    },
    {
      "cell_type": "code",
      "execution_count": null,
      "metadata": {
        "id": "GvwvTQl72cqF"
      },
      "outputs": [],
      "source": [
        "# train\n",
        "train = bart_train.drop(['datetime'], axis = 1)\n",
        "train = train.replace('Sunday', 1).replace('Monday', 2).replace('Tuesday', 3).replace('Wednesday', 4).replace('Thursday', 5).replace('Friday', 6).replace('Saturday', 7)\n",
        "X_train = train.drop(['transbayRides', 'systemRides', 'transbayUtil'], axis = 1)\n",
        "y_train = train['transbayUtil']\n",
        "\n",
        "X_train = X_train.iloc[24:]\n",
        "y_train = y_train.iloc[24:]\n",
        "\n",
        "# test\n",
        "test = bart_test.drop(['datetime'], axis =1)\n",
        "test = test.replace('Sunday', 1).replace('Monday', 2).replace('Tuesday', 3).replace('Wednesday', 4).replace('Thursday', 5).replace('Friday', 6).replace('Saturday', 7)\n",
        "X_test = test.drop(['transbayRides', 'systemRides', 'transbayUtil'], axis = 1)\n",
        "y_test = test['transbayUtil']"
      ]
    },
    {
      "cell_type": "code",
      "execution_count": null,
      "metadata": {
        "colab": {
          "base_uri": "https://localhost:8080/",
          "height": 206
        },
        "id": "It90CJw-A_pu",
        "outputId": "868381a0-edca-439c-8307-adf617579ab7"
      },
      "outputs": [
        {
          "output_type": "execute_result",
          "data": {
            "text/plain": [
              "    travelTime  dayOfWeek  sfoAirTemp  sfoPrecip  oakAirTemp  oakPrecip  \\\n",
              "24   15.315000          1        10.6       -0.1         8.3        0.0   \n",
              "25   15.292500          1        10.6        0.0         9.4       -0.1   \n",
              "26   15.355000          1        10.6       -0.1         8.9       -0.1   \n",
              "27   15.314167          1        10.6        0.3         8.9       -0.1   \n",
              "28   15.406667          1        10.0        1.0        10.0       -0.1   \n",
              "\n",
              "    spareAirDay  yesterday  lastHour  sfGiants  oakAs  \n",
              "24          0.0   0.477874  0.471289         0      0  \n",
              "25          0.0   0.638543  0.488731         0      0  \n",
              "26          0.0   0.637720  0.545763         0      0  \n",
              "27          0.0   0.739449  0.000000         0      0  \n",
              "28          0.0   0.862893  0.000000         0      0  "
            ],
            "text/html": [
              "\n",
              "  <div id=\"df-0247fe61-8538-48e1-b999-d2377bcf4318\">\n",
              "    <div class=\"colab-df-container\">\n",
              "      <div>\n",
              "<style scoped>\n",
              "    .dataframe tbody tr th:only-of-type {\n",
              "        vertical-align: middle;\n",
              "    }\n",
              "\n",
              "    .dataframe tbody tr th {\n",
              "        vertical-align: top;\n",
              "    }\n",
              "\n",
              "    .dataframe thead th {\n",
              "        text-align: right;\n",
              "    }\n",
              "</style>\n",
              "<table border=\"1\" class=\"dataframe\">\n",
              "  <thead>\n",
              "    <tr style=\"text-align: right;\">\n",
              "      <th></th>\n",
              "      <th>travelTime</th>\n",
              "      <th>dayOfWeek</th>\n",
              "      <th>sfoAirTemp</th>\n",
              "      <th>sfoPrecip</th>\n",
              "      <th>oakAirTemp</th>\n",
              "      <th>oakPrecip</th>\n",
              "      <th>spareAirDay</th>\n",
              "      <th>yesterday</th>\n",
              "      <th>lastHour</th>\n",
              "      <th>sfGiants</th>\n",
              "      <th>oakAs</th>\n",
              "    </tr>\n",
              "  </thead>\n",
              "  <tbody>\n",
              "    <tr>\n",
              "      <th>24</th>\n",
              "      <td>15.315000</td>\n",
              "      <td>1</td>\n",
              "      <td>10.6</td>\n",
              "      <td>-0.1</td>\n",
              "      <td>8.3</td>\n",
              "      <td>0.0</td>\n",
              "      <td>0.0</td>\n",
              "      <td>0.477874</td>\n",
              "      <td>0.471289</td>\n",
              "      <td>0</td>\n",
              "      <td>0</td>\n",
              "    </tr>\n",
              "    <tr>\n",
              "      <th>25</th>\n",
              "      <td>15.292500</td>\n",
              "      <td>1</td>\n",
              "      <td>10.6</td>\n",
              "      <td>0.0</td>\n",
              "      <td>9.4</td>\n",
              "      <td>-0.1</td>\n",
              "      <td>0.0</td>\n",
              "      <td>0.638543</td>\n",
              "      <td>0.488731</td>\n",
              "      <td>0</td>\n",
              "      <td>0</td>\n",
              "    </tr>\n",
              "    <tr>\n",
              "      <th>26</th>\n",
              "      <td>15.355000</td>\n",
              "      <td>1</td>\n",
              "      <td>10.6</td>\n",
              "      <td>-0.1</td>\n",
              "      <td>8.9</td>\n",
              "      <td>-0.1</td>\n",
              "      <td>0.0</td>\n",
              "      <td>0.637720</td>\n",
              "      <td>0.545763</td>\n",
              "      <td>0</td>\n",
              "      <td>0</td>\n",
              "    </tr>\n",
              "    <tr>\n",
              "      <th>27</th>\n",
              "      <td>15.314167</td>\n",
              "      <td>1</td>\n",
              "      <td>10.6</td>\n",
              "      <td>0.3</td>\n",
              "      <td>8.9</td>\n",
              "      <td>-0.1</td>\n",
              "      <td>0.0</td>\n",
              "      <td>0.739449</td>\n",
              "      <td>0.000000</td>\n",
              "      <td>0</td>\n",
              "      <td>0</td>\n",
              "    </tr>\n",
              "    <tr>\n",
              "      <th>28</th>\n",
              "      <td>15.406667</td>\n",
              "      <td>1</td>\n",
              "      <td>10.0</td>\n",
              "      <td>1.0</td>\n",
              "      <td>10.0</td>\n",
              "      <td>-0.1</td>\n",
              "      <td>0.0</td>\n",
              "      <td>0.862893</td>\n",
              "      <td>0.000000</td>\n",
              "      <td>0</td>\n",
              "      <td>0</td>\n",
              "    </tr>\n",
              "  </tbody>\n",
              "</table>\n",
              "</div>\n",
              "      <button class=\"colab-df-convert\" onclick=\"convertToInteractive('df-0247fe61-8538-48e1-b999-d2377bcf4318')\"\n",
              "              title=\"Convert this dataframe to an interactive table.\"\n",
              "              style=\"display:none;\">\n",
              "        \n",
              "  <svg xmlns=\"http://www.w3.org/2000/svg\" height=\"24px\"viewBox=\"0 0 24 24\"\n",
              "       width=\"24px\">\n",
              "    <path d=\"M0 0h24v24H0V0z\" fill=\"none\"/>\n",
              "    <path d=\"M18.56 5.44l.94 2.06.94-2.06 2.06-.94-2.06-.94-.94-2.06-.94 2.06-2.06.94zm-11 1L8.5 8.5l.94-2.06 2.06-.94-2.06-.94L8.5 2.5l-.94 2.06-2.06.94zm10 10l.94 2.06.94-2.06 2.06-.94-2.06-.94-.94-2.06-.94 2.06-2.06.94z\"/><path d=\"M17.41 7.96l-1.37-1.37c-.4-.4-.92-.59-1.43-.59-.52 0-1.04.2-1.43.59L10.3 9.45l-7.72 7.72c-.78.78-.78 2.05 0 2.83L4 21.41c.39.39.9.59 1.41.59.51 0 1.02-.2 1.41-.59l7.78-7.78 2.81-2.81c.8-.78.8-2.07 0-2.86zM5.41 20L4 18.59l7.72-7.72 1.47 1.35L5.41 20z\"/>\n",
              "  </svg>\n",
              "      </button>\n",
              "      \n",
              "  <style>\n",
              "    .colab-df-container {\n",
              "      display:flex;\n",
              "      flex-wrap:wrap;\n",
              "      gap: 12px;\n",
              "    }\n",
              "\n",
              "    .colab-df-convert {\n",
              "      background-color: #E8F0FE;\n",
              "      border: none;\n",
              "      border-radius: 50%;\n",
              "      cursor: pointer;\n",
              "      display: none;\n",
              "      fill: #1967D2;\n",
              "      height: 32px;\n",
              "      padding: 0 0 0 0;\n",
              "      width: 32px;\n",
              "    }\n",
              "\n",
              "    .colab-df-convert:hover {\n",
              "      background-color: #E2EBFA;\n",
              "      box-shadow: 0px 1px 2px rgba(60, 64, 67, 0.3), 0px 1px 3px 1px rgba(60, 64, 67, 0.15);\n",
              "      fill: #174EA6;\n",
              "    }\n",
              "\n",
              "    [theme=dark] .colab-df-convert {\n",
              "      background-color: #3B4455;\n",
              "      fill: #D2E3FC;\n",
              "    }\n",
              "\n",
              "    [theme=dark] .colab-df-convert:hover {\n",
              "      background-color: #434B5C;\n",
              "      box-shadow: 0px 1px 3px 1px rgba(0, 0, 0, 0.15);\n",
              "      filter: drop-shadow(0px 1px 2px rgba(0, 0, 0, 0.3));\n",
              "      fill: #FFFFFF;\n",
              "    }\n",
              "  </style>\n",
              "\n",
              "      <script>\n",
              "        const buttonEl =\n",
              "          document.querySelector('#df-0247fe61-8538-48e1-b999-d2377bcf4318 button.colab-df-convert');\n",
              "        buttonEl.style.display =\n",
              "          google.colab.kernel.accessAllowed ? 'block' : 'none';\n",
              "\n",
              "        async function convertToInteractive(key) {\n",
              "          const element = document.querySelector('#df-0247fe61-8538-48e1-b999-d2377bcf4318');\n",
              "          const dataTable =\n",
              "            await google.colab.kernel.invokeFunction('convertToInteractive',\n",
              "                                                     [key], {});\n",
              "          if (!dataTable) return;\n",
              "\n",
              "          const docLinkHtml = 'Like what you see? Visit the ' +\n",
              "            '<a target=\"_blank\" href=https://colab.research.google.com/notebooks/data_table.ipynb>data table notebook</a>'\n",
              "            + ' to learn more about interactive tables.';\n",
              "          element.innerHTML = '';\n",
              "          dataTable['output_type'] = 'display_data';\n",
              "          await google.colab.output.renderOutput(dataTable, element);\n",
              "          const docLink = document.createElement('div');\n",
              "          docLink.innerHTML = docLinkHtml;\n",
              "          element.appendChild(docLink);\n",
              "        }\n",
              "      </script>\n",
              "    </div>\n",
              "  </div>\n",
              "  "
            ]
          },
          "metadata": {},
          "execution_count": 26
        }
      ],
      "source": [
        "X_train.head()"
      ]
    },
    {
      "cell_type": "markdown",
      "metadata": {
        "id": "UssQcvFV2fxH"
      },
      "source": [
        "### Section A: CART"
      ]
    },
    {
      "cell_type": "code",
      "execution_count": null,
      "metadata": {
        "id": "5b83_oKb27Xm"
      },
      "outputs": [],
      "source": [
        "# decision tree regressor\n",
        "dtr1 = DecisionTreeRegressor(min_samples_leaf = 5, min_samples_split = 20, random_state = 88)\n",
        "dtr1 = dtr1.fit(X_train, y_train)\n",
        "\n",
        "dtr1_pred = dtr1.predict(X_train)"
      ]
    },
    {
      "cell_type": "code",
      "execution_count": null,
      "metadata": {
        "colab": {
          "base_uri": "https://localhost:8080/",
          "height": 81
        },
        "id": "LtFDMOzP27ad",
        "outputId": "d3a3b5f6-e852-4151-af1a-cc7c4c910ef7"
      },
      "outputs": [
        {
          "output_type": "execute_result",
          "data": {
            "text/plain": [
              "        R^2      RMSE       MAE\n",
              "0  0.791965  0.082242  0.033372"
            ],
            "text/html": [
              "\n",
              "  <div id=\"df-8609f7b8-0001-442c-9fa9-60e841fcedd2\">\n",
              "    <div class=\"colab-df-container\">\n",
              "      <div>\n",
              "<style scoped>\n",
              "    .dataframe tbody tr th:only-of-type {\n",
              "        vertical-align: middle;\n",
              "    }\n",
              "\n",
              "    .dataframe tbody tr th {\n",
              "        vertical-align: top;\n",
              "    }\n",
              "\n",
              "    .dataframe thead th {\n",
              "        text-align: right;\n",
              "    }\n",
              "</style>\n",
              "<table border=\"1\" class=\"dataframe\">\n",
              "  <thead>\n",
              "    <tr style=\"text-align: right;\">\n",
              "      <th></th>\n",
              "      <th>R^2</th>\n",
              "      <th>RMSE</th>\n",
              "      <th>MAE</th>\n",
              "    </tr>\n",
              "  </thead>\n",
              "  <tbody>\n",
              "    <tr>\n",
              "      <th>0</th>\n",
              "      <td>0.791965</td>\n",
              "      <td>0.082242</td>\n",
              "      <td>0.033372</td>\n",
              "    </tr>\n",
              "  </tbody>\n",
              "</table>\n",
              "</div>\n",
              "      <button class=\"colab-df-convert\" onclick=\"convertToInteractive('df-8609f7b8-0001-442c-9fa9-60e841fcedd2')\"\n",
              "              title=\"Convert this dataframe to an interactive table.\"\n",
              "              style=\"display:none;\">\n",
              "        \n",
              "  <svg xmlns=\"http://www.w3.org/2000/svg\" height=\"24px\"viewBox=\"0 0 24 24\"\n",
              "       width=\"24px\">\n",
              "    <path d=\"M0 0h24v24H0V0z\" fill=\"none\"/>\n",
              "    <path d=\"M18.56 5.44l.94 2.06.94-2.06 2.06-.94-2.06-.94-.94-2.06-.94 2.06-2.06.94zm-11 1L8.5 8.5l.94-2.06 2.06-.94-2.06-.94L8.5 2.5l-.94 2.06-2.06.94zm10 10l.94 2.06.94-2.06 2.06-.94-2.06-.94-.94-2.06-.94 2.06-2.06.94z\"/><path d=\"M17.41 7.96l-1.37-1.37c-.4-.4-.92-.59-1.43-.59-.52 0-1.04.2-1.43.59L10.3 9.45l-7.72 7.72c-.78.78-.78 2.05 0 2.83L4 21.41c.39.39.9.59 1.41.59.51 0 1.02-.2 1.41-.59l7.78-7.78 2.81-2.81c.8-.78.8-2.07 0-2.86zM5.41 20L4 18.59l7.72-7.72 1.47 1.35L5.41 20z\"/>\n",
              "  </svg>\n",
              "      </button>\n",
              "      \n",
              "  <style>\n",
              "    .colab-df-container {\n",
              "      display:flex;\n",
              "      flex-wrap:wrap;\n",
              "      gap: 12px;\n",
              "    }\n",
              "\n",
              "    .colab-df-convert {\n",
              "      background-color: #E8F0FE;\n",
              "      border: none;\n",
              "      border-radius: 50%;\n",
              "      cursor: pointer;\n",
              "      display: none;\n",
              "      fill: #1967D2;\n",
              "      height: 32px;\n",
              "      padding: 0 0 0 0;\n",
              "      width: 32px;\n",
              "    }\n",
              "\n",
              "    .colab-df-convert:hover {\n",
              "      background-color: #E2EBFA;\n",
              "      box-shadow: 0px 1px 2px rgba(60, 64, 67, 0.3), 0px 1px 3px 1px rgba(60, 64, 67, 0.15);\n",
              "      fill: #174EA6;\n",
              "    }\n",
              "\n",
              "    [theme=dark] .colab-df-convert {\n",
              "      background-color: #3B4455;\n",
              "      fill: #D2E3FC;\n",
              "    }\n",
              "\n",
              "    [theme=dark] .colab-df-convert:hover {\n",
              "      background-color: #434B5C;\n",
              "      box-shadow: 0px 1px 3px 1px rgba(0, 0, 0, 0.15);\n",
              "      filter: drop-shadow(0px 1px 2px rgba(0, 0, 0, 0.3));\n",
              "      fill: #FFFFFF;\n",
              "    }\n",
              "  </style>\n",
              "\n",
              "      <script>\n",
              "        const buttonEl =\n",
              "          document.querySelector('#df-8609f7b8-0001-442c-9fa9-60e841fcedd2 button.colab-df-convert');\n",
              "        buttonEl.style.display =\n",
              "          google.colab.kernel.accessAllowed ? 'block' : 'none';\n",
              "\n",
              "        async function convertToInteractive(key) {\n",
              "          const element = document.querySelector('#df-8609f7b8-0001-442c-9fa9-60e841fcedd2');\n",
              "          const dataTable =\n",
              "            await google.colab.kernel.invokeFunction('convertToInteractive',\n",
              "                                                     [key], {});\n",
              "          if (!dataTable) return;\n",
              "\n",
              "          const docLinkHtml = 'Like what you see? Visit the ' +\n",
              "            '<a target=\"_blank\" href=https://colab.research.google.com/notebooks/data_table.ipynb>data table notebook</a>'\n",
              "            + ' to learn more about interactive tables.';\n",
              "          element.innerHTML = '';\n",
              "          dataTable['output_type'] = 'display_data';\n",
              "          await google.colab.output.renderOutput(dataTable, element);\n",
              "          const docLink = document.createElement('div');\n",
              "          docLink.innerHTML = docLinkHtml;\n",
              "          element.appendChild(docLink);\n",
              "        }\n",
              "      </script>\n",
              "    </div>\n",
              "  </div>\n",
              "  "
            ]
          },
          "metadata": {},
          "execution_count": 33
        }
      ],
      "source": [
        "# performance \n",
        "from sklearn.metrics import mean_absolute_error\n",
        "\n",
        "dtr1_r1 = OSR2(y_train, y_train, dtr1_pred)\n",
        "dtr1_rmse = RMSE(y_train, dtr1_pred)\n",
        "dtr1_mae = mean_absolute_error(y_train, dtr1_pred)\n",
        "\n",
        "pd.DataFrame(data = {'R^2': [dtr1_r1], 'RMSE': [dtr1_rmse], 'MAE': [dtr1_mae]})"
      ]
    },
    {
      "cell_type": "code",
      "execution_count": null,
      "metadata": {
        "id": "uGO6xzK_27dF"
      },
      "outputs": [],
      "source": [
        "# Cross-Validated decision tree regressor \n",
        "start = time.time()\n",
        "cp_params = {'ccp_alpha': np.linspace(0,0.1,20)}\n",
        "\n",
        "dtr2 = DecisionTreeRegressor(min_samples_leaf = 5,\n",
        "                             min_samples_split = 20,\n",
        "                             random_state = 88)\n",
        "dtr2_cv = GridSearchCV(dtr2, \n",
        "                       param_grid = cp_params,\n",
        "                       scoring = 'r2',\n",
        "                       cv = 5,\n",
        "                       verbose = 0)\n",
        "dtr2_cv.fit(X_train, y_train)\n",
        "dtr2_cv.best_params_\n",
        "cart_time = time.time() - start"
      ]
    },
    {
      "cell_type": "code",
      "execution_count": null,
      "metadata": {
        "id": "UeNUEfuY6dc3",
        "colab": {
          "base_uri": "https://localhost:8080/"
        },
        "outputId": "2e6eb827-1cd2-40ea-b4b9-e3a90292b020"
      },
      "outputs": [
        {
          "output_type": "stream",
          "name": "stdout",
          "text": [
            "77.51917743682861\n"
          ]
        }
      ],
      "source": [
        "print(cart_time)"
      ]
    },
    {
      "cell_type": "code",
      "execution_count": null,
      "metadata": {
        "colab": {
          "base_uri": "https://localhost:8080/",
          "height": 394
        },
        "id": "elX5I78SD3Nh",
        "outputId": "47bbe62a-9969-448f-ef58-eeb84061dda9"
      },
      "outputs": [
        {
          "output_type": "display_data",
          "data": {
            "text/plain": [
              "<Figure size 576x432 with 1 Axes>"
            ],
            "image/png": "[encoded data removed]"
          },
          "metadata": {
            "needs_background": "light"
          }
        }
      ],
      "source": [
        "# select the best hyperparameter\n",
        "ccp_alphas = dtr2_cv.cv_results_['param_ccp_alpha'].data\n",
        "R2_scores = dtr2_cv.cv_results_['mean_test_score']\n",
        "plt.figure(figsize=(8, 6))\n",
        "plt.xlabel('ccp_alpha', fontsize=16)\n",
        "plt.ylabel('CV R2', fontsize=16)\n",
        "plt.scatter(ccp_alphas, R2_scores, s=30)\n",
        "plt.plot(ccp_alphas, R2_scores, linewidth=3)\n",
        "plt.grid(True, which='both')"
      ]
    },
    {
      "cell_type": "code",
      "execution_count": null,
      "metadata": {
        "colab": {
          "base_uri": "https://localhost:8080/",
          "height": 81
        },
        "id": "W5SKCDAw3D2_",
        "outputId": "efb517ca-f296-4754-bb6a-6bc049c920b2"
      },
      "outputs": [
        {
          "output_type": "execute_result",
          "data": {
            "text/plain": [
              "        R^2      RMSE       MAE\n",
              "0  0.791965  0.082242  0.033372"
            ],
            "text/html": [
              "\n",
              "  <div id=\"df-d3f62aad-9d5e-4f01-a1a9-1d19313d6035\">\n",
              "    <div class=\"colab-df-container\">\n",
              "      <div>\n",
              "<style scoped>\n",
              "    .dataframe tbody tr th:only-of-type {\n",
              "        vertical-align: middle;\n",
              "    }\n",
              "\n",
              "    .dataframe tbody tr th {\n",
              "        vertical-align: top;\n",
              "    }\n",
              "\n",
              "    .dataframe thead th {\n",
              "        text-align: right;\n",
              "    }\n",
              "</style>\n",
              "<table border=\"1\" class=\"dataframe\">\n",
              "  <thead>\n",
              "    <tr style=\"text-align: right;\">\n",
              "      <th></th>\n",
              "      <th>R^2</th>\n",
              "      <th>RMSE</th>\n",
              "      <th>MAE</th>\n",
              "    </tr>\n",
              "  </thead>\n",
              "  <tbody>\n",
              "    <tr>\n",
              "      <th>0</th>\n",
              "      <td>0.791965</td>\n",
              "      <td>0.082242</td>\n",
              "      <td>0.033372</td>\n",
              "    </tr>\n",
              "  </tbody>\n",
              "</table>\n",
              "</div>\n",
              "      <button class=\"colab-df-convert\" onclick=\"convertToInteractive('df-d3f62aad-9d5e-4f01-a1a9-1d19313d6035')\"\n",
              "              title=\"Convert this dataframe to an interactive table.\"\n",
              "              style=\"display:none;\">\n",
              "        \n",
              "  <svg xmlns=\"http://www.w3.org/2000/svg\" height=\"24px\"viewBox=\"0 0 24 24\"\n",
              "       width=\"24px\">\n",
              "    <path d=\"M0 0h24v24H0V0z\" fill=\"none\"/>\n",
              "    <path d=\"M18.56 5.44l.94 2.06.94-2.06 2.06-.94-2.06-.94-.94-2.06-.94 2.06-2.06.94zm-11 1L8.5 8.5l.94-2.06 2.06-.94-2.06-.94L8.5 2.5l-.94 2.06-2.06.94zm10 10l.94 2.06.94-2.06 2.06-.94-2.06-.94-.94-2.06-.94 2.06-2.06.94z\"/><path d=\"M17.41 7.96l-1.37-1.37c-.4-.4-.92-.59-1.43-.59-.52 0-1.04.2-1.43.59L10.3 9.45l-7.72 7.72c-.78.78-.78 2.05 0 2.83L4 21.41c.39.39.9.59 1.41.59.51 0 1.02-.2 1.41-.59l7.78-7.78 2.81-2.81c.8-.78.8-2.07 0-2.86zM5.41 20L4 18.59l7.72-7.72 1.47 1.35L5.41 20z\"/>\n",
              "  </svg>\n",
              "      </button>\n",
              "      \n",
              "  <style>\n",
              "    .colab-df-container {\n",
              "      display:flex;\n",
              "      flex-wrap:wrap;\n",
              "      gap: 12px;\n",
              "    }\n",
              "\n",
              "    .colab-df-convert {\n",
              "      background-color: #E8F0FE;\n",
              "      border: none;\n",
              "      border-radius: 50%;\n",
              "      cursor: pointer;\n",
              "      display: none;\n",
              "      fill: #1967D2;\n",
              "      height: 32px;\n",
              "      padding: 0 0 0 0;\n",
              "      width: 32px;\n",
              "    }\n",
              "\n",
              "    .colab-df-convert:hover {\n",
              "      background-color: #E2EBFA;\n",
              "      box-shadow: 0px 1px 2px rgba(60, 64, 67, 0.3), 0px 1px 3px 1px rgba(60, 64, 67, 0.15);\n",
              "      fill: #174EA6;\n",
              "    }\n",
              "\n",
              "    [theme=dark] .colab-df-convert {\n",
              "      background-color: #3B4455;\n",
              "      fill: #D2E3FC;\n",
              "    }\n",
              "\n",
              "    [theme=dark] .colab-df-convert:hover {\n",
              "      background-color: #434B5C;\n",
              "      box-shadow: 0px 1px 3px 1px rgba(0, 0, 0, 0.15);\n",
              "      filter: drop-shadow(0px 1px 2px rgba(0, 0, 0, 0.3));\n",
              "      fill: #FFFFFF;\n",
              "    }\n",
              "  </style>\n",
              "\n",
              "      <script>\n",
              "        const buttonEl =\n",
              "          document.querySelector('#df-d3f62aad-9d5e-4f01-a1a9-1d19313d6035 button.colab-df-convert');\n",
              "        buttonEl.style.display =\n",
              "          google.colab.kernel.accessAllowed ? 'block' : 'none';\n",
              "\n",
              "        async function convertToInteractive(key) {\n",
              "          const element = document.querySelector('#df-d3f62aad-9d5e-4f01-a1a9-1d19313d6035');\n",
              "          const dataTable =\n",
              "            await google.colab.kernel.invokeFunction('convertToInteractive',\n",
              "                                                     [key], {});\n",
              "          if (!dataTable) return;\n",
              "\n",
              "          const docLinkHtml = 'Like what you see? Visit the ' +\n",
              "            '<a target=\"_blank\" href=https://colab.research.google.com/notebooks/data_table.ipynb>data table notebook</a>'\n",
              "            + ' to learn more about interactive tables.';\n",
              "          element.innerHTML = '';\n",
              "          dataTable['output_type'] = 'display_data';\n",
              "          await google.colab.output.renderOutput(dataTable, element);\n",
              "          const docLink = document.createElement('div');\n",
              "          docLink.innerHTML = docLinkHtml;\n",
              "          element.appendChild(docLink);\n",
              "        }\n",
              "      </script>\n",
              "    </div>\n",
              "  </div>\n",
              "  "
            ]
          },
          "metadata": {},
          "execution_count": 32
        }
      ],
      "source": [
        "# check performance \n",
        "dtr2_best = dtr2_cv.best_estimator_\n",
        "dtr2_pred = dtr2_best.predict(X_train)\n",
        "\n",
        "dtr2_r2 = OSR2(y_train, y_train, dtr2_pred)\n",
        "dtr2_rmse = RMSE(y_train, dtr2_pred)\n",
        "dtr2_mae = mean_absolute_error(y_train, dtr2_pred)\n",
        "\n",
        "pd.DataFrame(data = {'R^2': [dtr2_r2], 'RMSE': [dtr2_rmse], 'MAE': [dtr2_mae]})"
      ]
    },
    {
      "cell_type": "code",
      "source": [
        "x = bart_train['datetime'].to_numpy()\n",
        "y = bart_train['transbayUtil'].to_numpy()\n",
        "plot_last_five_hundred(x, y, red=dtr2_pred)"
      ],
      "metadata": {
        "colab": {
          "base_uri": "https://localhost:8080/",
          "height": 287
        },
        "id": "RXhoq7WmhrFy",
        "outputId": "c8c7ec0b-4da5-422c-889e-8ae66fc425bb"
      },
      "execution_count": null,
      "outputs": [
        {
          "output_type": "display_data",
          "data": {
            "text/plain": [
              "<Figure size 1152x288 with 1 Axes>"
            ],
            "image/png": "[encoded data removed]"
          },
          "metadata": {
            "needs_background": "light"
          }
        }
      ]
    },
    {
      "cell_type": "markdown",
      "metadata": {
        "id": "RksDoUGltmox"
      },
      "source": [
        "### Section B: Random Forest"
      ]
    },
    {
      "cell_type": "code",
      "execution_count": null,
      "metadata": {
        "id": "t9Cu-1ar4WQR",
        "colab": {
          "base_uri": "https://localhost:8080/",
          "height": 81
        },
        "outputId": "99ba81de-4346-49cf-81e5-f8bf8ec6ed09"
      },
      "outputs": [
        {
          "output_type": "execute_result",
          "data": {
            "text/plain": [
              "        R^2      RMSE       MAE\n",
              "0  0.953373  0.038936  0.016689"
            ],
            "text/html": [
              "\n",
              "  <div id=\"df-fa9d973c-e670-4dc8-8f51-bd101ff76eea\">\n",
              "    <div class=\"colab-df-container\">\n",
              "      <div>\n",
              "<style scoped>\n",
              "    .dataframe tbody tr th:only-of-type {\n",
              "        vertical-align: middle;\n",
              "    }\n",
              "\n",
              "    .dataframe tbody tr th {\n",
              "        vertical-align: top;\n",
              "    }\n",
              "\n",
              "    .dataframe thead th {\n",
              "        text-align: right;\n",
              "    }\n",
              "</style>\n",
              "<table border=\"1\" class=\"dataframe\">\n",
              "  <thead>\n",
              "    <tr style=\"text-align: right;\">\n",
              "      <th></th>\n",
              "      <th>R^2</th>\n",
              "      <th>RMSE</th>\n",
              "      <th>MAE</th>\n",
              "    </tr>\n",
              "  </thead>\n",
              "  <tbody>\n",
              "    <tr>\n",
              "      <th>0</th>\n",
              "      <td>0.953373</td>\n",
              "      <td>0.038936</td>\n",
              "      <td>0.016689</td>\n",
              "    </tr>\n",
              "  </tbody>\n",
              "</table>\n",
              "</div>\n",
              "      <button class=\"colab-df-convert\" onclick=\"convertToInteractive('df-fa9d973c-e670-4dc8-8f51-bd101ff76eea')\"\n",
              "              title=\"Convert this dataframe to an interactive table.\"\n",
              "              style=\"display:none;\">\n",
              "        \n",
              "  <svg xmlns=\"http://www.w3.org/2000/svg\" height=\"24px\"viewBox=\"0 0 24 24\"\n",
              "       width=\"24px\">\n",
              "    <path d=\"M0 0h24v24H0V0z\" fill=\"none\"/>\n",
              "    <path d=\"M18.56 5.44l.94 2.06.94-2.06 2.06-.94-2.06-.94-.94-2.06-.94 2.06-2.06.94zm-11 1L8.5 8.5l.94-2.06 2.06-.94-2.06-.94L8.5 2.5l-.94 2.06-2.06.94zm10 10l.94 2.06.94-2.06 2.06-.94-2.06-.94-.94-2.06-.94 2.06-2.06.94z\"/><path d=\"M17.41 7.96l-1.37-1.37c-.4-.4-.92-.59-1.43-.59-.52 0-1.04.2-1.43.59L10.3 9.45l-7.72 7.72c-.78.78-.78 2.05 0 2.83L4 21.41c.39.39.9.59 1.41.59.51 0 1.02-.2 1.41-.59l7.78-7.78 2.81-2.81c.8-.78.8-2.07 0-2.86zM5.41 20L4 18.59l7.72-7.72 1.47 1.35L5.41 20z\"/>\n",
              "  </svg>\n",
              "      </button>\n",
              "      \n",
              "  <style>\n",
              "    .colab-df-container {\n",
              "      display:flex;\n",
              "      flex-wrap:wrap;\n",
              "      gap: 12px;\n",
              "    }\n",
              "\n",
              "    .colab-df-convert {\n",
              "      background-color: #E8F0FE;\n",
              "      border: none;\n",
              "      border-radius: 50%;\n",
              "      cursor: pointer;\n",
              "      display: none;\n",
              "      fill: #1967D2;\n",
              "      height: 32px;\n",
              "      padding: 0 0 0 0;\n",
              "      width: 32px;\n",
              "    }\n",
              "\n",
              "    .colab-df-convert:hover {\n",
              "      background-color: #E2EBFA;\n",
              "      box-shadow: 0px 1px 2px rgba(60, 64, 67, 0.3), 0px 1px 3px 1px rgba(60, 64, 67, 0.15);\n",
              "      fill: #174EA6;\n",
              "    }\n",
              "\n",
              "    [theme=dark] .colab-df-convert {\n",
              "      background-color: #3B4455;\n",
              "      fill: #D2E3FC;\n",
              "    }\n",
              "\n",
              "    [theme=dark] .colab-df-convert:hover {\n",
              "      background-color: #434B5C;\n",
              "      box-shadow: 0px 1px 3px 1px rgba(0, 0, 0, 0.15);\n",
              "      filter: drop-shadow(0px 1px 2px rgba(0, 0, 0, 0.3));\n",
              "      fill: #FFFFFF;\n",
              "    }\n",
              "  </style>\n",
              "\n",
              "      <script>\n",
              "        const buttonEl =\n",
              "          document.querySelector('#df-fa9d973c-e670-4dc8-8f51-bd101ff76eea button.colab-df-convert');\n",
              "        buttonEl.style.display =\n",
              "          google.colab.kernel.accessAllowed ? 'block' : 'none';\n",
              "\n",
              "        async function convertToInteractive(key) {\n",
              "          const element = document.querySelector('#df-fa9d973c-e670-4dc8-8f51-bd101ff76eea');\n",
              "          const dataTable =\n",
              "            await google.colab.kernel.invokeFunction('convertToInteractive',\n",
              "                                                     [key], {});\n",
              "          if (!dataTable) return;\n",
              "\n",
              "          const docLinkHtml = 'Like what you see? Visit the ' +\n",
              "            '<a target=\"_blank\" href=https://colab.research.google.com/notebooks/data_table.ipynb>data table notebook</a>'\n",
              "            + ' to learn more about interactive tables.';\n",
              "          element.innerHTML = '';\n",
              "          dataTable['output_type'] = 'display_data';\n",
              "          await google.colab.output.renderOutput(dataTable, element);\n",
              "          const docLink = document.createElement('div');\n",
              "          docLink.innerHTML = docLinkHtml;\n",
              "          element.appendChild(docLink);\n",
              "        }\n",
              "      </script>\n",
              "    </div>\n",
              "  </div>\n",
              "  "
            ]
          },
          "metadata": {},
          "execution_count": 40
        }
      ],
      "source": [
        "# random forest \n",
        "rf1 = RandomForestRegressor(max_features = len(X_train.columns),\n",
        "                                  random_state = 88)\n",
        "rf1 = rf1.fit(X_train, y_train)\n",
        "\n",
        "rf1_pred = rf1.predict(X_train)\n",
        "rf1_r2 = OSR2(y_train, y_train, rf1_pred)\n",
        "rf1_rmse = RMSE(y_train, rf1_pred)\n",
        "rf1_mae = mean_absolute_error(y_train, rf1_pred)\n",
        "\n",
        "pd.DataFrame(data = {'R^2': [rf1_r2], 'RMSE': [rf1_rmse], 'MAE': [rf1_mae]})\n",
        "# print('Random Forest OSR2:', OSR2_tree(rf1, X_test, y_test, y_train))\n"
      ]
    },
    {
      "cell_type": "code",
      "execution_count": null,
      "metadata": {
        "colab": {
          "base_uri": "https://localhost:8080/"
        },
        "id": "0Ny9xxc54Zy6",
        "outputId": "7526c7d7-ed92-42b6-c213-110aa287bd03"
      },
      "outputs": [
        {
          "output_type": "stream",
          "name": "stdout",
          "text": [
            "time: 1628.76 s\n"
          ]
        }
      ],
      "source": [
        "# random forest with CV\n",
        "# using GridSearchCV to find best max_features:\n",
        "start = time.time()\n",
        "params = {'max_features': np.arange(1, len(X_train.columns) + 1)}\n",
        "\n",
        "rf2 = RandomForestRegressor(random_state = 88)\n",
        "rf2_cv = GridSearchCV(rf2,\n",
        "                      param_grid = params,\n",
        "                      scoring = 'r2',\n",
        "                      cv = 5,\n",
        "                      verbose = 0)\n",
        "rf2_cv = rf2_cv.fit(X_train, y_train)\n",
        "\n",
        "rf_cv = time.time() - start\n",
        "print('time:', round(rf_cv, 2),'s')"
      ]
    },
    {
      "cell_type": "code",
      "execution_count": null,
      "metadata": {
        "colab": {
          "base_uri": "https://localhost:8080/",
          "height": 393
        },
        "id": "KJudwSiA4c6e",
        "outputId": "513bd2f1-da87-4a1e-a465-850a76d2ff49"
      },
      "outputs": [
        {
          "output_type": "display_data",
          "data": {
            "text/plain": [
              "<Figure size 576x432 with 1 Axes>"
            ],
            "image/png": "[encoded data removed]"
          },
          "metadata": {
            "needs_background": "light"
          }
        }
      ],
      "source": [
        "# select the best hyperparameter\n",
        "max_features = rf2_cv.cv_results_['param_max_features'].data\n",
        "R2_scores = rf2_cv.cv_results_['mean_test_score']\n",
        "plt.figure(figsize=(8, 6))\n",
        "plt.xlabel('max features', fontsize=16)\n",
        "plt.ylabel('CV R2', fontsize=16)\n",
        "plt.scatter(max_features, R2_scores, s=30)\n",
        "plt.plot(max_features, R2_scores, linewidth=3)\n",
        "plt.grid(True, which='both')"
      ]
    },
    {
      "cell_type": "code",
      "execution_count": null,
      "metadata": {
        "colab": {
          "base_uri": "https://localhost:8080/",
          "height": 81
        },
        "id": "WuYoAemy4f0M",
        "outputId": "f5d7294a-d0d2-4c39-fd7d-fb4eec121c7f"
      },
      "outputs": [
        {
          "output_type": "execute_result",
          "data": {
            "text/plain": [
              "        R^2      RMSE       MAE\n",
              "0  0.955066  0.038222  0.016582"
            ],
            "text/html": [
              "\n",
              "  <div id=\"df-506e449c-dee4-4cff-b966-59055cba3170\">\n",
              "    <div class=\"colab-df-container\">\n",
              "      <div>\n",
              "<style scoped>\n",
              "    .dataframe tbody tr th:only-of-type {\n",
              "        vertical-align: middle;\n",
              "    }\n",
              "\n",
              "    .dataframe tbody tr th {\n",
              "        vertical-align: top;\n",
              "    }\n",
              "\n",
              "    .dataframe thead th {\n",
              "        text-align: right;\n",
              "    }\n",
              "</style>\n",
              "<table border=\"1\" class=\"dataframe\">\n",
              "  <thead>\n",
              "    <tr style=\"text-align: right;\">\n",
              "      <th></th>\n",
              "      <th>R^2</th>\n",
              "      <th>RMSE</th>\n",
              "      <th>MAE</th>\n",
              "    </tr>\n",
              "  </thead>\n",
              "  <tbody>\n",
              "    <tr>\n",
              "      <th>0</th>\n",
              "      <td>0.955066</td>\n",
              "      <td>0.038222</td>\n",
              "      <td>0.016582</td>\n",
              "    </tr>\n",
              "  </tbody>\n",
              "</table>\n",
              "</div>\n",
              "      <button class=\"colab-df-convert\" onclick=\"convertToInteractive('df-506e449c-dee4-4cff-b966-59055cba3170')\"\n",
              "              title=\"Convert this dataframe to an interactive table.\"\n",
              "              style=\"display:none;\">\n",
              "        \n",
              "  <svg xmlns=\"http://www.w3.org/2000/svg\" height=\"24px\"viewBox=\"0 0 24 24\"\n",
              "       width=\"24px\">\n",
              "    <path d=\"M0 0h24v24H0V0z\" fill=\"none\"/>\n",
              "    <path d=\"M18.56 5.44l.94 2.06.94-2.06 2.06-.94-2.06-.94-.94-2.06-.94 2.06-2.06.94zm-11 1L8.5 8.5l.94-2.06 2.06-.94-2.06-.94L8.5 2.5l-.94 2.06-2.06.94zm10 10l.94 2.06.94-2.06 2.06-.94-2.06-.94-.94-2.06-.94 2.06-2.06.94z\"/><path d=\"M17.41 7.96l-1.37-1.37c-.4-.4-.92-.59-1.43-.59-.52 0-1.04.2-1.43.59L10.3 9.45l-7.72 7.72c-.78.78-.78 2.05 0 2.83L4 21.41c.39.39.9.59 1.41.59.51 0 1.02-.2 1.41-.59l7.78-7.78 2.81-2.81c.8-.78.8-2.07 0-2.86zM5.41 20L4 18.59l7.72-7.72 1.47 1.35L5.41 20z\"/>\n",
              "  </svg>\n",
              "      </button>\n",
              "      \n",
              "  <style>\n",
              "    .colab-df-container {\n",
              "      display:flex;\n",
              "      flex-wrap:wrap;\n",
              "      gap: 12px;\n",
              "    }\n",
              "\n",
              "    .colab-df-convert {\n",
              "      background-color: #E8F0FE;\n",
              "      border: none;\n",
              "      border-radius: 50%;\n",
              "      cursor: pointer;\n",
              "      display: none;\n",
              "      fill: #1967D2;\n",
              "      height: 32px;\n",
              "      padding: 0 0 0 0;\n",
              "      width: 32px;\n",
              "    }\n",
              "\n",
              "    .colab-df-convert:hover {\n",
              "      background-color: #E2EBFA;\n",
              "      box-shadow: 0px 1px 2px rgba(60, 64, 67, 0.3), 0px 1px 3px 1px rgba(60, 64, 67, 0.15);\n",
              "      fill: #174EA6;\n",
              "    }\n",
              "\n",
              "    [theme=dark] .colab-df-convert {\n",
              "      background-color: #3B4455;\n",
              "      fill: #D2E3FC;\n",
              "    }\n",
              "\n",
              "    [theme=dark] .colab-df-convert:hover {\n",
              "      background-color: #434B5C;\n",
              "      box-shadow: 0px 1px 3px 1px rgba(0, 0, 0, 0.15);\n",
              "      filter: drop-shadow(0px 1px 2px rgba(0, 0, 0, 0.3));\n",
              "      fill: #FFFFFF;\n",
              "    }\n",
              "  </style>\n",
              "\n",
              "      <script>\n",
              "        const buttonEl =\n",
              "          document.querySelector('#df-506e449c-dee4-4cff-b966-59055cba3170 button.colab-df-convert');\n",
              "        buttonEl.style.display =\n",
              "          google.colab.kernel.accessAllowed ? 'block' : 'none';\n",
              "\n",
              "        async function convertToInteractive(key) {\n",
              "          const element = document.querySelector('#df-506e449c-dee4-4cff-b966-59055cba3170');\n",
              "          const dataTable =\n",
              "            await google.colab.kernel.invokeFunction('convertToInteractive',\n",
              "                                                     [key], {});\n",
              "          if (!dataTable) return;\n",
              "\n",
              "          const docLinkHtml = 'Like what you see? Visit the ' +\n",
              "            '<a target=\"_blank\" href=https://colab.research.google.com/notebooks/data_table.ipynb>data table notebook</a>'\n",
              "            + ' to learn more about interactive tables.';\n",
              "          element.innerHTML = '';\n",
              "          dataTable['output_type'] = 'display_data';\n",
              "          await google.colab.output.renderOutput(dataTable, element);\n",
              "          const docLink = document.createElement('div');\n",
              "          docLink.innerHTML = docLinkHtml;\n",
              "          element.appendChild(docLink);\n",
              "        }\n",
              "      </script>\n",
              "    </div>\n",
              "  </div>\n",
              "  "
            ]
          },
          "metadata": {},
          "execution_count": 43
        }
      ],
      "source": [
        "rf2_best = rf2_cv.best_estimator_\n",
        "rf2_pred = rf2_best.predict(X_train)\n",
        "\n",
        "rf2_cv_r2 = OSR2(y_train, y_train, rf2_pred)\n",
        "rf2_cv_rmse = RMSE(y_train, rf2_pred)\n",
        "rf2_cv_mae = mean_absolute_error(y_train, rf2_pred)\n",
        "\n",
        "pd.DataFrame(data = {'R^2': [rf2_cv_r2], 'RMSE': [rf2_cv_rmse], 'MAE': [rf2_cv_mae]})\n",
        "# print('Random Forest OSR2:', OSR2_tree(rf1, X_test, y_test, y_train))"
      ]
    },
    {
      "cell_type": "code",
      "source": [
        "x = bart_train['datetime'].to_numpy()\n",
        "y = bart_train['transbayUtil'].to_numpy()\n",
        "plot_last_five_hundred(x, y, red=rf2_pred)"
      ],
      "metadata": {
        "colab": {
          "base_uri": "https://localhost:8080/",
          "height": 287
        },
        "id": "vnBPg3nHf1b8",
        "outputId": "349edd70-046e-4187-d1f2-478fb7554152"
      },
      "execution_count": null,
      "outputs": [
        {
          "output_type": "display_data",
          "data": {
            "text/plain": [
              "<Figure size 1152x288 with 1 Axes>"
            ],
            "image/png": "[encoded data removed]"
          },
          "metadata": {
            "needs_background": "light"
          }
        }
      ]
    },
    {
      "cell_type": "markdown",
      "metadata": {
        "id": "D_-J08sV6pI8"
      },
      "source": [
        "## Part VIII: Bootstrap"
      ]
    },
    {
      "cell_type": "code",
      "execution_count": null,
      "metadata": {
        "id": "fmy7j4zt86d5"
      },
      "outputs": [],
      "source": [
        "def bootstrap(model, X_test, y_test, y_train, sample=500, random_state=66):\n",
        "    output_array = np.zeros((sample, 3))\n",
        "    output_array[:] = np.nan\n",
        "    for bs_iter in range(sample):\n",
        "        bs_index = np.random.choice(X_test.index, len(X_test.index), replace=True)\n",
        "        bs_x_test = X_test.loc[bs_index]\n",
        "        bs_y_test = y_test.loc[bs_index]\n",
        "        bs_predicted = model.predict(bs_x_test)\n",
        "        output_array[bs_iter, 0] = OSR2_pred(bs_predicted, y_train, bs_y_test) \n",
        "        output_array[bs_iter, 1] = MAE(bs_y_test, bs_predicted)\n",
        "        output_array[bs_iter, 2] = RMSE(bs_y_test, bs_predicted)\n",
        "    return output_array\n",
        "\n",
        "def np_bootstrap(model, X_test, y_test, y_train, sample=500, random_state=66):\n",
        "    output_array = np.zeros((sample, 3))\n",
        "    output_array[:] = np.nan\n",
        "    for bs_iter in range(sample):\n",
        "        bs_index = np.random.choice(np.arange(len(X_test)), len(X_test), replace=True)\n",
        "        bs_x_test = X_test[bs_index]\n",
        "        bs_y_test = y_test[bs_index]\n",
        "        bs_predicted = model.predict(bs_x_test, verbose=0)\n",
        "        output_array[bs_iter, 0] = OSR2(y_train, bs_y_test, bs_predicted.flatten())\n",
        "        output_array[bs_iter, 1] = MAE(bs_y_test, bs_predicted.flatten())\n",
        "        output_array[bs_iter, 2] = RMSE(bs_y_test, bs_predicted.flatten())\n",
        "    return output_array\n",
        "\n",
        "def perform_bootstrap(X_test_tree, y_test_tree, y_train_tree, X_test, y_test, y_train, model_dict, B=500, random_state=88) -> dict: \n",
        "    dictionary = {}\n",
        "\n",
        "    np.random.seed(random_state)\n",
        "    for key in model_dict:\n",
        "        model = model_dict[key]\n",
        "        if (key == 'Random Forest'):\n",
        "            model_array = bootstrap(model, X_test_tree, y_test_tree, y_train_tree, B, random_state)\n",
        "        else:\n",
        "          model_array = bootstrap(model, X_test, y_test, y_train, B, random_state)\n",
        "        dictionary[str(key)] = model_array\n",
        "        \n",
        "    return dictionary"
      ]
    },
    {
      "cell_type": "code",
      "execution_count": null,
      "metadata": {
        "id": "YD_YiOdOrzkw"
      },
      "outputs": [],
      "source": [
        "boots = [] \n",
        "boots.append(bootstrap(ar3, bart_test, bart_test['transbayUtil'], bart_train['transbayUtil']))\n",
        "boots.append(np_bootstrap(nn, X_test_nn, y_test_nn, y_train_nn))\n",
        "boots.append(bootstrap(dtr2_best, X_test, y_test, y_train))\n",
        "boots.append(bootstrap(rf2_cv.best_estimator_, X_test, y_test, y_train))\n",
        "boots = np.array(boots)"
      ]
    },
    {
      "cell_type": "code",
      "execution_count": null,
      "metadata": {
        "colab": {
          "base_uri": "https://localhost:8080/",
          "height": 358
        },
        "id": "hvEPeqiv94aI",
        "outputId": "cf79fe1b-caed-46f5-b576-e6b6332205ee"
      },
      "outputs": [
        {
          "output_type": "display_data",
          "data": {
            "text/plain": [
              "<Figure size 1440x360 with 4 Axes>"
            ],
            "image/png": "[encoded data removed]"
          },
          "metadata": {
            "needs_background": "light"
          }
        }
      ],
      "source": [
        "n = len(boots)\n",
        "names = ['Auto-Regressive', 'Neural Network', 'CART Regressor','Random Forest']\n",
        "colors = ['blue', 'green', 'orange', 'red', 'purple']\n",
        "plt.rcParams.update({'font.size': 10})\n",
        "fig, axs = plt.subplots(ncols=n, figsize=(20,5))\n",
        "axs[0].set_ylabel('Count', fontsize=15)\n",
        "for i in range(n):\n",
        "    axs[i].set_xlabel('$OSR^2$ Estimate', fontsize=16)\n",
        "    axs[i].set_title(names[i])\n",
        "    _ = axs[i].hist(boots[i,:,0], bins=30, edgecolor= colors[i], linewidth=2, color=\"grey\")"
      ]
    },
    {
      "cell_type": "code",
      "execution_count": null,
      "metadata": {
        "colab": {
          "base_uri": "https://localhost:8080/",
          "height": 542
        },
        "id": "M3zwZovz95BZ",
        "outputId": "8aec8045-1604-425c-9204-0a4fd03fca61"
      },
      "outputs": [
        {
          "output_type": "execute_result",
          "data": {
            "text/plain": [
              "<matplotlib.legend.Legend at 0x7f232e8afb80>"
            ]
          },
          "metadata": {},
          "execution_count": 68
        },
        {
          "output_type": "display_data",
          "data": {
            "text/plain": [
              "<Figure size 2160x720 with 1 Axes>"
            ],
            "image/png": "[encoded data removed]"
          },
          "metadata": {
            "needs_background": "light"
          }
        }
      ],
      "source": [
        "plt.figure(figsize=(30, 10))\n",
        "plt.rcParams.update({'font.size': 20})\n",
        "plt.title('Overlayed MAE Histogram')\n",
        "plt.xlabel('Count')\n",
        "plt.ylabel('MAE')\n",
        "for i in range(n):\n",
        "  _ = plt.hist(boots[i,:,2], bins=30, color=colors[i], alpha=0.5)\n",
        "\n",
        "plt.legend(names)"
      ]
    },
    {
      "cell_type": "code",
      "execution_count": null,
      "metadata": {
        "colab": {
          "base_uri": "https://localhost:8080/",
          "height": 191
        },
        "id": "-ThDQZI0m4dU",
        "outputId": "a51ccd20-62bc-4bcf-cbe8-575147a6a25f"
      },
      "outputs": [
        {
          "output_type": "execute_result",
          "data": {
            "text/plain": [
              "<pandas.io.formats.style.Styler at 0x7f232e90e5b0>"
            ],
            "text/html": [
              "<style type=\"text/css\">\n",
              "#T_956ad_ th {\n",
              "  font-size: 10pt;\n",
              "}\n",
              "#T_956ad_row0_col0, #T_956ad_row0_col1, #T_956ad_row0_col2, #T_956ad_row0_col3, #T_956ad_row0_col4, #T_956ad_row0_col5, #T_956ad_row1_col0, #T_956ad_row1_col1, #T_956ad_row1_col2, #T_956ad_row1_col3, #T_956ad_row1_col4, #T_956ad_row1_col5, #T_956ad_row2_col0, #T_956ad_row2_col1, #T_956ad_row2_col2, #T_956ad_row2_col3, #T_956ad_row2_col4, #T_956ad_row2_col5, #T_956ad_row3_col0, #T_956ad_row3_col1, #T_956ad_row3_col2, #T_956ad_row3_col3, #T_956ad_row3_col4, #T_956ad_row3_col5 {\n",
              "  font-size: 12pt;\n",
              "}\n",
              "</style>\n",
              "<table id=\"T_956ad_\" class=\"dataframe\">\n",
              "  <thead>\n",
              "    <tr>\n",
              "      <th class=\"blank level0\" >&nbsp;</th>\n",
              "      <th class=\"col_heading level0 col0\" >Mean OSR^2</th>\n",
              "      <th class=\"col_heading level0 col1\" >OSR^2 Std</th>\n",
              "      <th class=\"col_heading level0 col2\" >Mean MAE</th>\n",
              "      <th class=\"col_heading level0 col3\" >MAE Std</th>\n",
              "      <th class=\"col_heading level0 col4\" >Mean RMSE</th>\n",
              "      <th class=\"col_heading level0 col5\" >RMSE Std</th>\n",
              "    </tr>\n",
              "  </thead>\n",
              "  <tbody>\n",
              "    <tr>\n",
              "      <th id=\"T_956ad_level0_row0\" class=\"row_heading level0 row0\" >Auto-Regressive</th>\n",
              "      <td id=\"T_956ad_row0_col0\" class=\"data row0 col0\" >0.613025</td>\n",
              "      <td id=\"T_956ad_row0_col1\" class=\"data row0 col1\" >0.010140</td>\n",
              "      <td id=\"T_956ad_row0_col2\" class=\"data row0 col2\" >0.067212</td>\n",
              "      <td id=\"T_956ad_row0_col3\" class=\"data row0 col3\" >0.000742</td>\n",
              "      <td id=\"T_956ad_row0_col4\" class=\"data row0 col4\" >0.117401</td>\n",
              "      <td id=\"T_956ad_row0_col5\" class=\"data row0 col5\" >0.001658</td>\n",
              "    </tr>\n",
              "    <tr>\n",
              "      <th id=\"T_956ad_level0_row1\" class=\"row_heading level0 row1\" >Neural Network</th>\n",
              "      <td id=\"T_956ad_row1_col0\" class=\"data row1 col0\" >0.581184</td>\n",
              "      <td id=\"T_956ad_row1_col1\" class=\"data row1 col1\" >0.010173</td>\n",
              "      <td id=\"T_956ad_row1_col2\" class=\"data row1 col2\" >0.076096</td>\n",
              "      <td id=\"T_956ad_row1_col3\" class=\"data row1 col3\" >0.000742</td>\n",
              "      <td id=\"T_956ad_row1_col4\" class=\"data row1 col4\" >0.122007</td>\n",
              "      <td id=\"T_956ad_row1_col5\" class=\"data row1 col5\" >0.001603</td>\n",
              "    </tr>\n",
              "    <tr>\n",
              "      <th id=\"T_956ad_level0_row2\" class=\"row_heading level0 row2\" >CART Regressor</th>\n",
              "      <td id=\"T_956ad_row2_col0\" class=\"data row2 col0\" >0.574451</td>\n",
              "      <td id=\"T_956ad_row2_col1\" class=\"data row2 col1\" >0.012183</td>\n",
              "      <td id=\"T_956ad_row2_col2\" class=\"data row2 col2\" >0.060741</td>\n",
              "      <td id=\"T_956ad_row2_col3\" class=\"data row2 col3\" >0.000867</td>\n",
              "      <td id=\"T_956ad_row2_col4\" class=\"data row2 col4\" >0.123101</td>\n",
              "      <td id=\"T_956ad_row2_col5\" class=\"data row2 col5\" >0.001847</td>\n",
              "    </tr>\n",
              "    <tr>\n",
              "      <th id=\"T_956ad_level0_row3\" class=\"row_heading level0 row3\" >Random Forest</th>\n",
              "      <td id=\"T_956ad_row3_col0\" class=\"data row3 col0\" >0.666700</td>\n",
              "      <td id=\"T_956ad_row3_col1\" class=\"data row3 col1\" >0.009780</td>\n",
              "      <td id=\"T_956ad_row3_col2\" class=\"data row3 col2\" >0.055378</td>\n",
              "      <td id=\"T_956ad_row3_col3\" class=\"data row3 col3\" >0.000724</td>\n",
              "      <td id=\"T_956ad_row3_col4\" class=\"data row3 col4\" >0.108933</td>\n",
              "      <td id=\"T_956ad_row3_col5\" class=\"data row3 col5\" >0.001794</td>\n",
              "    </tr>\n",
              "  </tbody>\n",
              "</table>\n"
            ]
          },
          "metadata": {},
          "execution_count": 66
        }
      ],
      "source": [
        "comparison_data = {'Mean OSR^2': [np.mean(boots[0,:,0]), np.mean(boots[1,:,0]), np.mean(boots[2,:,0]), np.mean(boots[3,:,0])],\n",
        "                   'OSR^2 Std': [np.std(boots[0,:,0]), np.std(boots[1,:,0]), np.std(boots[2,:,0]), np.std(boots[3,:,0])],\n",
        "                   'Mean MAE': [np.mean(boots[0,:,1]), np.mean(boots[1,:,1]), np.mean(boots[2,:,1]), np.mean(boots[3,:,1])],\n",
        "                   'MAE Std': [np.std(boots[0,:,1]), np.std(boots[1,:,1]), np.std(boots[2,:,1]), np.std(boots[3,:,1])],\n",
        "                   'Mean RMSE': [np.mean(boots[0,:,2]), np.mean(boots[1,:,2]), np.mean(boots[2,:,2]), np.mean(boots[3,:,2])],\n",
        "                   'RMSE Std': [np.std(boots[0,:,2]), np.std(boots[1,:,2]), np.std(boots[2,:,2]), np.std(boots[3,:,2])]}\n",
        "\n",
        "comparison_table = pd.DataFrame(data=comparison_data, index=names)\n",
        "comparison_table.style.set_properties(**{'font-size': '12pt', }).set_table_styles(\n",
        "    [{'selector': 'th', 'props': [('font-size', '10pt')]}])"
      ]
    },
    {
      "cell_type": "code",
      "execution_count": null,
      "metadata": {
        "colab": {
          "base_uri": "https://localhost:8080/",
          "height": 513
        },
        "id": "9m6HHcEjKKck",
        "outputId": "c899288a-fb1d-4adf-a4f8-63544fd1f03a"
      },
      "outputs": [
        {
          "output_type": "display_data",
          "data": {
            "text/plain": [
              "<Figure size 576x576 with 1 Axes>"
            ],
            "image/png": "[encoded data removed]"
          },
          "metadata": {
            "needs_background": "light"
          }
        }
      ],
      "source": [
        "plt.figure(figsize=(8, 8))\n",
        "plt.rcParams.update({'font.size': 10})\n",
        "x = np.divide([autoreg_time, neural_time, cart_time, rf_cv], 60)\n",
        "y = [np.mean(boots[0,:,0]), np.mean(boots[1,:,0]), np.mean(boots[2,:,0]), np.mean(boots[3,:,0])]\n",
        "plt.title('Training Time vs. OSR^2')\n",
        "plt.xlabel('Time (Minutes)')\n",
        "plt.ylabel('OSR^2')\n",
        "plt.scatter(x,y)\n",
        "i = 0\n",
        "for x,y in zip(x,y):\n",
        "  plt.annotate(names[i], (x,y), textcoords=\"offset points\", xytext=(0,10), ha='center')\n",
        "  i = i+1"
      ]
    },
    {
      "cell_type": "code",
      "source": [],
      "metadata": {
        "id": "-8p2mkX5c6-e"
      },
      "execution_count": null,
      "outputs": []
    }
  ],
  "metadata": {
    "colab": {
      "collapsed_sections": [
        "eRhZidyF8Nqy",
        "3g8n5YYP8dus",
        "rnYBIJ-X2evn",
        "opRtaXX33lJS",
        "HYN_fGC5zklD"
      ],
      "provenance": [],
      "include_colab_link": true
    },
    "kernelspec": {
      "display_name": "Python 3",
      "name": "python3"
    },
    "language_info": {
      "name": "python"
    }
  },
  "nbformat": 4,
  "nbformat_minor": 0
}